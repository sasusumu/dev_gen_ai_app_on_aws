{
 "cells": [
  {
   "cell_type": "markdown",
   "id": "0",
   "metadata": {
    "tags": []
   },
   "source": [
    "# タスク 1d: テキスト生成の実行 (マルチモーダル)\n"
   ]
  },
  {
   "cell_type": "markdown",
   "id": "1",
   "metadata": {},
   "source": [
    "### シナリオ\n",
    "Amazon Nova Lite のマルチモーダルの機能を Converse API を使って呼び出します。\n",
    "ユーザーがインプットしたアーキテクチャ図を Nova Lite が解析し、CloudFormation テンプレートを出力します。"
   ]
  },
  {
   "cell_type": "markdown",
   "id": "e303d8d6-5071-46c8-9283-004ef4cf0989",
   "metadata": {
    "execution": {
     "iopub.execute_input": "2025-10-24T03:31:31.592640Z",
     "iopub.status.busy": "2025-10-24T03:31:31.592282Z",
     "iopub.status.idle": "2025-10-24T03:31:31.599674Z",
     "shell.execute_reply": "2025-10-24T03:31:31.598282Z",
     "shell.execute_reply.started": "2025-10-24T03:31:31.592607Z"
    }
   },
   "source": [
    "<img src=\"Amazon-Bedrock.png\" />"
   ]
  },
  {
   "cell_type": "markdown",
   "id": "2",
   "metadata": {},
   "source": [
    "## タスク 1d.1: 環境のセットアップ\n",
    "\n",
    "このタスクでは、環境をセットアップします。"
   ]
  },
  {
   "cell_type": "code",
   "execution_count": 7,
   "id": "3",
   "metadata": {
    "execution": {
     "iopub.execute_input": "2025-10-24T03:29:10.167931Z",
     "iopub.status.busy": "2025-10-24T03:29:10.167660Z",
     "iopub.status.idle": "2025-10-24T03:29:10.176254Z",
     "shell.execute_reply": "2025-10-24T03:29:10.175495Z",
     "shell.execute_reply.started": "2025-10-24T03:29:10.167910Z"
    },
    "tags": []
   },
   "outputs": [],
   "source": [
    "#Create a service client by name using the default session.\n",
    "import json\n",
    "import os\n",
    "import sys\n",
    "\n",
    "import boto3\n",
    "import botocore\n",
    "\n",
    "module_path = \"..\"\n",
    "sys.path.append(os.path.abspath(module_path))\n",
    "\n",
    "bedrock_client = boto3.client('bedrock-runtime',region_name=os.environ.get(\"AWS_DEFAULT_REGION\", None))"
   ]
  },
  {
   "cell_type": "markdown",
   "id": "4",
   "metadata": {},
   "source": [
    "## タスク 1d.2: ユーザープロンプトの設定\n",
    "\n",
    "このタスクでは、Amazon Bedrock サービスが CloudFormation テンプレートを作成するための、指示を設定します。"
   ]
  },
  {
   "cell_type": "code",
   "execution_count": 8,
   "id": "5",
   "metadata": {
    "execution": {
     "iopub.execute_input": "2025-10-24T03:29:11.570777Z",
     "iopub.status.busy": "2025-10-24T03:29:11.570489Z",
     "iopub.status.idle": "2025-10-24T03:29:11.573687Z",
     "shell.execute_reply": "2025-10-24T03:29:11.573002Z",
     "shell.execute_reply.started": "2025-10-24T03:29:11.570757Z"
    },
    "tags": []
   },
   "outputs": [],
   "source": [
    "# create the prompt\n",
    "prompt_data = \"\"\"\n",
    "添付した画像ファイルは AWS のアーキテクチャ図です。\n",
    "この構成を実現する CloudFormation テンプレートを作成してください\n",
    "\"\"\""
   ]
  },
  {
   "cell_type": "markdown",
   "id": "1bc13c09-473a-4d02-a541-5f93f7ba79ec",
   "metadata": {},
   "source": [
    "画像ファイルを読み込みバイト列として保存します。"
   ]
  },
  {
   "cell_type": "code",
   "execution_count": 9,
   "id": "10",
   "metadata": {
    "execution": {
     "iopub.execute_input": "2025-10-24T03:29:12.629439Z",
     "iopub.status.busy": "2025-10-24T03:29:12.629084Z",
     "iopub.status.idle": "2025-10-24T03:29:12.632852Z",
     "shell.execute_reply": "2025-10-24T03:29:12.632186Z",
     "shell.execute_reply.started": "2025-10-24T03:29:12.629413Z"
    }
   },
   "outputs": [],
   "source": [
    "with open('Amazon-Bedrock.png', 'rb') as f:\n",
    "    png_bytes = f.read()"
   ]
  },
  {
   "cell_type": "markdown",
   "id": "dfcc479f-d15a-43ee-adfb-962d882baa7b",
   "metadata": {
    "execution": {
     "iopub.execute_input": "2025-10-24T03:25:49.830341Z",
     "iopub.status.busy": "2025-10-24T03:25:49.829984Z",
     "iopub.status.idle": "2025-10-24T03:25:49.835580Z",
     "shell.execute_reply": "2025-10-24T03:25:49.834413Z",
     "shell.execute_reply.started": "2025-10-24T03:25:49.830308Z"
    },
    "scrolled": true
   },
   "source": [
    "Converse API に入力するメッセージを作成します。"
   ]
  },
  {
   "cell_type": "code",
   "execution_count": 10,
   "id": "cb6c835e-ce2c-4ab6-b261-7be948e374e8",
   "metadata": {
    "execution": {
     "iopub.execute_input": "2025-10-24T03:29:15.168895Z",
     "iopub.status.busy": "2025-10-24T03:29:15.168621Z",
     "iopub.status.idle": "2025-10-24T03:29:15.172746Z",
     "shell.execute_reply": "2025-10-24T03:29:15.171896Z",
     "shell.execute_reply.started": "2025-10-24T03:29:15.168874Z"
    }
   },
   "outputs": [],
   "source": [
    "message = [\n",
    "    {\n",
    "        \"role\": \"user\",\n",
    "        \"content\": [\n",
    "            {\n",
    "                \"text\": prompt_data\n",
    "            }, {\n",
    "                \"image\": {\n",
    "                    \"format\": \"png\",\n",
    "                    \"source\": {\n",
    "                        \"bytes\": png_bytes\n",
    "                        # 's3Location': {\n",
    "                        #     'uri': 'string',\n",
    "                        #     'bucketOwner': 'string'\n",
    "                        # }\n",
    "                    }\n",
    "                }\n",
    "            }\n",
    "        ]\n",
    "    }\n",
    "]"
   ]
  },
  {
   "cell_type": "markdown",
   "id": "8",
   "metadata": {},
   "source": [
    "## タスク 1a.3: Amazon Nova Lite 言語モデルを呼び出す"
   ]
  },
  {
   "cell_type": "markdown",
   "id": "9",
   "metadata": {},
   "source": [
    "### テンプレート生成\n",
    "Amazon Nova Lite に指示と画像データを送信します。API　は同期リクエストのため、モデルによって出力全体が生成されるまで待機します。"
   ]
  },
  {
   "cell_type": "code",
   "execution_count": 11,
   "id": "11",
   "metadata": {
    "execution": {
     "iopub.execute_input": "2025-10-24T03:29:19.338205Z",
     "iopub.status.busy": "2025-10-24T03:29:19.337947Z",
     "iopub.status.idle": "2025-10-24T03:29:32.797843Z",
     "shell.execute_reply": "2025-10-24T03:29:32.797014Z",
     "shell.execute_reply.started": "2025-10-24T03:29:19.338185Z"
    },
    "tags": []
   },
   "outputs": [],
   "source": [
    "#invoke model\n",
    "modelId = 'amazon.nova-lite-v1:0' # change this to use a different version from the model provider\n",
    "outputText = \"\\n\"\n",
    "try:\n",
    "\n",
    "    response = bedrock_client.converse(\n",
    "        messages=message,\n",
    "        modelId=modelId,\n",
    "        inferenceConfig = {\n",
    "            \"maxTokens\": 8192,\n",
    "            \"stopSequences\": [],\n",
    "            \"temperature\": 0,\n",
    "            \"topP\": 0.9\n",
    "        }\n",
    "    )\n",
    "    outputText = response.get('output').get('message').get('content')[0].get('text')\n",
    "\n",
    "except botocore.exceptions.ClientError as error:\n",
    "    \n",
    "    if error.response['Error']['Code'] == 'AccessDeniedException':\n",
    "           print(f\"\\x1b[41m{error.response['Error']['Message']}\\\n",
    "                \\nTo troubeshoot this issue please refer to the following resources.\\\n",
    "                 \\nhttps://docs.aws.amazon.com/IAM/latest/UserGuide/troubleshoot_access-denied.html\\\n",
    "                 \\nhttps://docs.aws.amazon.com/bedrock/latest/userguide/security-iam.html\\x1b[0m\\n\")\n",
    "        \n",
    "    else:\n",
    "        raise error\n"
   ]
  },
  {
   "cell_type": "code",
   "execution_count": 12,
   "id": "12",
   "metadata": {
    "execution": {
     "iopub.execute_input": "2025-10-24T03:29:32.798895Z",
     "iopub.status.busy": "2025-10-24T03:29:32.798680Z",
     "iopub.status.idle": "2025-10-24T03:29:32.802376Z",
     "shell.execute_reply": "2025-10-24T03:29:32.801802Z",
     "shell.execute_reply.started": "2025-10-24T03:29:32.798875Z"
    },
    "tags": []
   },
   "outputs": [
    {
     "name": "stdout",
     "output_type": "stream",
     "text": [
      "```yaml\n",
      "AWSTemplateFormatVersion: '2010-09-09'\n",
      "Description: AWS architecture with various services like ECS, Amazon Bedrock, API Gateway, etc.\n",
      "Resources:\n",
      "  VPC:\n",
      "    Type: 'AWS::EC2::VPC'\n",
      "    Properties:\n",
      "      CidrBlock: 10.0.0.0/16\n",
      "\n",
      "  InternetGateway:\n",
      "    Type: 'AWS::EC2::InternetGateway'\n",
      "\n",
      "  AttachGateway:\n",
      "    Type: 'AWS::EC2::VPCGatewayAttachment'\n",
      "    Properties:\n",
      "      VpcId: !Ref VPC\n",
      "      InternetGatewayId: !Ref InternetGateway\n",
      "\n",
      "  PublicSubnet1:\n",
      "    Type: 'AWS::EC2::Subnet'\n",
      "    Properties:\n",
      "      VpcId: !Ref VPC\n",
      "      CidrBlock: 10.0.1.0/24\n",
      "      MapPublicIpOnLaunch: true\n",
      "\n",
      "  PublicSubnet2:\n",
      "    Type: 'AWS::EC2::Subnet'\n",
      "    Properties:\n",
      "      VpcId: !Ref VPC\n",
      "      CidrBlock: 10.0.2.0/24\n",
      "      MapPublicIpOnLaunch: true\n",
      "\n",
      "  PrivateSubnet1:\n",
      "    Type: 'AWS::EC2::Subnet'\n",
      "    Properties:\n",
      "      VpcId: !Ref VPC\n",
      "      CidrBlock: 10.0.3.0/24\n",
      "\n",
      "  PrivateSubnet2:\n",
      "    Type: 'AWS::EC2::Subnet'\n",
      "    Properties:\n",
      "      VpcId: !Ref VPC\n",
      "      CidrBlock: 10.0.4.0/24\n",
      "\n",
      "  PublicRouteTable:\n",
      "    Type: 'AWS::EC2::RouteTable'\n",
      "    Properties:\n",
      "      VpcId: !Ref VPC\n",
      "\n",
      "  PublicRoute:\n",
      "    Type: 'AWS::EC2::Route'\n",
      "    DependsOn: AttachGateway\n",
      "    Properties:\n",
      "      RouteTableId: !Ref PublicRouteTable\n",
      "      DestinationCidrBlock: 0.0.0.0/0\n",
      "      GatewayId: !Ref InternetGateway\n",
      "\n",
      "  PublicRouteAssociation:\n",
      "    Type: 'AWS::EC2::SubnetRouteTableAssociation'\n",
      "    Properties:\n",
      "      SubnetId: !Ref PublicSubnet1\n",
      "      RouteTableId: !Ref PublicRouteTable\n",
      "\n",
      "  PublicRouteAssociation2:\n",
      "    Type: 'AWS::EC2::SubnetRouteTableAssociation'\n",
      "    Properties:\n",
      "      SubnetId: !Ref PublicSubnet2\n",
      "      RouteTableId: !Ref PublicRouteTable\n",
      "\n",
      "  PrivateRouteTable:\n",
      "    Type: 'AWS::EC2::RouteTable'\n",
      "    Properties:\n",
      "      VpcId: !Ref VPC\n",
      "\n",
      "  PrivateRouteAssociation:\n",
      "    Type: 'AWS::EC2::SubnetRouteTableAssociation'\n",
      "    Properties:\n",
      "      SubnetId: !Ref PrivateSubnet1\n",
      "      RouteTableId: !Ref PrivateRouteTable\n",
      "\n",
      "  PrivateRouteAssociation2:\n",
      "    Type: 'AWS::EC2::SubnetRouteTableAssociation'\n",
      "    Properties:\n",
      "      SubnetId: !Ref PrivateSubnet2\n",
      "      RouteTableId: !Ref PrivateRouteTable\n",
      "\n",
      "  AWSLambdaSecurityGroup:\n",
      "    Type: 'AWS::EC2::SecurityGroup'\n",
      "    Properties:\n",
      "      GroupDescription: 'Security Group for AWS Lambda'\n",
      "      VpcId: !Ref VPC\n",
      "      SecurityGroupIngress:\n",
      "        - IpProtocol: '-1'\n",
      "          CidrIp: '0.0.0.0/0'\n",
      "\n",
      "  APIGateway:\n",
      "    Type: 'AWS::ApiGateway::RestApi'\n",
      "    Properties:\n",
      "      Name: 'MyAPIGateway'\n",
      "\n",
      "  APIGatewayDeployment:\n",
      "    Type: 'AWS::ApiGateway::Deployment'\n",
      "    DependsOn: APIGateway\n",
      "    Properties:\n",
      "      RestApiId: !Ref APIGateway\n",
      "      StageName: 'prod'\n",
      "\n",
      "  APIGatewayResource:\n",
      "    Type: 'AWS::ApiGateway::Resource'\n",
      "    DependsOn: APIGateway\n",
      "    Properties:\n",
      "      RestApiId: !Ref APIGateway\n",
      "      ParentId: !GetAtt APIGateway.RootResourceId\n",
      "      PathPart: 'myresource'\n",
      "\n",
      "  APIGatewayMethod:\n",
      "    Type: 'AWS::ApiGateway::Method'\n",
      "    DependsOn:\n",
      "      - APIGatewayResource\n",
      "      - APIGatewayDeployment\n",
      "    Properties:\n",
      "      RestApiId: !Ref APIGateway\n",
      "      ResourceId: !Ref APIGatewayResource\n",
      "      HttpMethod: 'GET'\n",
      "      AuthorizationType: 'NONE'\n",
      "      Integration:\n",
      "        IntegrationHttpMethod: 'POST'\n",
      "        Type: 'AWS_PROXY'\n",
      "        Uri: !Sub 'arn:aws:apigateway:${AWS::Region}:lambda:path/2015-03-31/functions/${LambdaFunction.Arn}/invocations'\n",
      "\n",
      "  LambdaFunction:\n",
      "    Type: 'AWS::Lambda::Function'\n",
      "    Properties:\n",
      "      Handler: 'index.handler'\n",
      "      Role: !GetAtt LambdaExecutionRole.Arn\n",
      "      Code:\n",
      "        S3Bucket: 'my-bucket'\n",
      "        S3Key: 'lambda-code.zip'\n",
      "      Runtime: 'nodejs14.x'\n",
      "      Timeout: 15\n",
      "      MemorySize: 128\n",
      "\n",
      "  LambdaExecutionRole:\n",
      "    Type: 'AWS::IAM::Role'\n",
      "    Properties:\n",
      "      AssumeRolePolicyDocument:\n",
      "        Version: '2012-10-17'\n",
      "        Statement:\n",
      "          - Effect: 'Allow'\n",
      "            Principal:\n",
      "              Service: 'lambda.amazonaws.com'\n",
      "            Action: 'sts:AssumeRole'\n",
      "      Policies:\n",
      "        - PolicyName: 'LambdaExecutionPolicy'\n",
      "          PolicyDocument:\n",
      "            Version: '2012-10-17'\n",
      "            Statement:\n",
      "              - Effect: 'Allow'\n",
      "                Action:\n",
      "                  - 'logs:CreateLogGroup'\n",
      "                  - 'logs:CreateLogStream'\n",
      "                  - 'logs:PutLogEvents'\n",
      "                Resource: 'arn:aws:logs:*:*:*'\n",
      "\n",
      "  DynamoDBTable:\n",
      "    Type: 'AWS::DynamoDB::Table'\n",
      "    Properties:\n",
      "      TableName: 'MyDynamoDBTable'\n",
      "      AttributeDefinitions:\n",
      "        - AttributeName: 'id'\n",
      "          AttributeType: 'S'\n",
      "      KeySchema:\n",
      "        - AttributeName: 'id'\n",
      "          KeyType: 'HASH'\n",
      "      ProvisionedThroughput:\n",
      "        ReadCapacityUnits: 5\n",
      "        WriteCapacityUnits: 5\n",
      "\n",
      "  AmazonECSCluster:\n",
      "    Type: 'AWS::ECS::Cluster'\n",
      "\n",
      "  AmazonECSTaskDefinition:\n",
      "    Type: 'AWS::ECS::TaskDefinition'\n",
      "    Properties:\n",
      "      Family: 'MyTaskDefinition'\n",
      "      NetworkMode: 'bridge'\n",
      "      ContainerDefinitions:\n",
      "        - Name: 'my-container'\n",
      "          Image: 'my-image'\n",
      "          Cpu: 256\n",
      "          Memory: 512\n",
      "          Essential: true\n",
      "\n",
      "  AmazonECSService:\n",
      "    Type: 'AWS::ECS::Service'\n",
      "    DependsOn: AmazonECSTaskDefinition\n",
      "    Properties:\n",
      "      Cluster: !Ref AmazonECSCluster\n",
      "      TaskDefinition: !Ref AmazonECSTaskDefinition\n",
      "      DesiredCount: 1\n",
      "      LaunchType: 'FARGATE'\n",
      "\n",
      "  AmazonS3Bucket:\n",
      "    Type: 'AWS::S3::Bucket'\n",
      "    Properties:\n",
      "      BucketName: 'my-s3-bucket'\n",
      "\n",
      "  AmazonBedrockModel:\n",
      "    Type: 'AWS::Bedrock::Model'\n",
      "    Properties:\n",
      "      ModelName: 'my-bedrock-model'\n",
      "      ModelType: 'foundation-model'\n",
      "      ModelVersion: 'v1'\n",
      "\n",
      "  AmazonOpenSearchDomain:\n",
      "    Type: 'AWS::OpenSearch::Domain'\n",
      "    Properties:\n",
      "      DomainName: 'my-opensearch-domain'\n",
      "      ElasticsearchClusterConfig:\n",
      "        InstanceType: 'r5.large.elasticsearch'\n",
      "        InstanceCount: 1\n",
      "      EncryptionAtRestOptions:\n",
      "        Enabled: true\n",
      "        KmsKeyId: 'alias/aws/es'\n",
      "\n",
      "  TitanEmbedding:\n",
      "    Type: 'Custom::TitanEmbedding'\n",
      "    Version: '1.0'\n",
      "    Properties:\n",
      "      ServiceToken: !GetAtt TitanEmbeddingLambda.Arn\n",
      "      EmbeddingInput: 'my-embedding-input'\n",
      "      EmbeddingOutput: 'my-embedding-output'\n",
      "\n",
      "  TitanEmbeddingLambda:\n",
      "    Type: 'AWS::Lambda::Function'\n",
      "    Properties:\n",
      "      Handler: 'index.handler'\n",
      "      Role: !GetAtt LambdaExecutionRole.Arn\n",
      "      Code:\n",
      "        S3Bucket: 'my-bucket'\n",
      "        S3Key: 'titan-embedding-code.zip'\n",
      "      Runtime: 'python3.8'\n",
      "      Timeout: 60\n",
      "      MemorySize: 512\n",
      "\n",
      "Outputs:\n",
      "  VPCId:\n",
      "    Description: 'The ID of the VPC'\n",
      "    Value: !Ref VPC\n",
      "\n",
      "  LambdaFunctionArn:\n",
      "    Description: 'The ARN of the Lambda function'\n",
      "    Value: !GetAtt LambdaFunction.Arn\n",
      "\n",
      "  DynamoDBTableName:\n",
      "    Description: 'The name of the DynamoDB table'\n",
      "    Value: !Ref DynamoDBTable\n",
      "\n",
      "  AmazonECSClusterName:\n",
      "    Description: 'The name of the ECS cluster'\n",
      "    Value: !Ref AmazonECSCluster\n",
      "\n",
      "  AmazonS3BucketName:\n",
      "    Description: 'The name of the S3 bucket'\n",
      "    Value: !Ref AmazonS3Bucket\n",
      "\n",
      "  AmazonOpenSearchDomainName:\n",
      "    Description: 'The name of the OpenSearch domain'\n",
      "    Value: !Ref AmazonOpenSearchDomain\n",
      "```\n"
     ]
    }
   ],
   "source": [
    "# Print the complete response from Nova Lite\n",
    "print(outputText)\n"
   ]
  },
  {
   "cell_type": "markdown",
   "id": "13",
   "metadata": {},
   "source": [
    "これで、Amazon Bedrock API を使用したマルチモーダルの動作が確認できました。"
   ]
  },
  {
   "cell_type": "markdown",
   "id": "6fb9717c-9e9c-420a-b972-dbe04b9e282c",
   "metadata": {
    "execution": {
     "iopub.execute_input": "2025-10-24T03:28:55.878180Z",
     "iopub.status.busy": "2025-10-24T03:28:55.877833Z",
     "iopub.status.idle": "2025-10-24T03:28:55.883255Z",
     "shell.execute_reply": "2025-10-24T03:28:55.882215Z",
     "shell.execute_reply.started": "2025-10-24T03:28:55.878149Z"
    }
   },
   "source": [
    "## オプション\n",
    "出力される CloudFormation テンプレートの品質を上げるためにはどんなことができるでしょうか？"
   ]
  }
 ],
 "metadata": {
  "availableInstances": [
   {
    "_defaultOrder": 0,
    "_isFastLaunch": true,
    "category": "General purpose",
    "gpuNum": 0,
    "hideHardwareSpecs": false,
    "memoryGiB": 4,
    "name": "ml.t3.medium",
    "vcpuNum": 2
   },
   {
    "_defaultOrder": 1,
    "_isFastLaunch": false,
    "category": "General purpose",
    "gpuNum": 0,
    "hideHardwareSpecs": false,
    "memoryGiB": 8,
    "name": "ml.t3.large",
    "vcpuNum": 2
   },
   {
    "_defaultOrder": 2,
    "_isFastLaunch": false,
    "category": "General purpose",
    "gpuNum": 0,
    "hideHardwareSpecs": false,
    "memoryGiB": 16,
    "name": "ml.t3.xlarge",
    "vcpuNum": 4
   },
   {
    "_defaultOrder": 3,
    "_isFastLaunch": false,
    "category": "General purpose",
    "gpuNum": 0,
    "hideHardwareSpecs": false,
    "memoryGiB": 32,
    "name": "ml.t3.2xlarge",
    "vcpuNum": 8
   },
   {
    "_defaultOrder": 4,
    "_isFastLaunch": true,
    "category": "General purpose",
    "gpuNum": 0,
    "hideHardwareSpecs": false,
    "memoryGiB": 8,
    "name": "ml.m5.large",
    "vcpuNum": 2
   },
   {
    "_defaultOrder": 5,
    "_isFastLaunch": false,
    "category": "General purpose",
    "gpuNum": 0,
    "hideHardwareSpecs": false,
    "memoryGiB": 16,
    "name": "ml.m5.xlarge",
    "vcpuNum": 4
   },
   {
    "_defaultOrder": 6,
    "_isFastLaunch": false,
    "category": "General purpose",
    "gpuNum": 0,
    "hideHardwareSpecs": false,
    "memoryGiB": 32,
    "name": "ml.m5.2xlarge",
    "vcpuNum": 8
   },
   {
    "_defaultOrder": 7,
    "_isFastLaunch": false,
    "category": "General purpose",
    "gpuNum": 0,
    "hideHardwareSpecs": false,
    "memoryGiB": 64,
    "name": "ml.m5.4xlarge",
    "vcpuNum": 16
   },
   {
    "_defaultOrder": 8,
    "_isFastLaunch": false,
    "category": "General purpose",
    "gpuNum": 0,
    "hideHardwareSpecs": false,
    "memoryGiB": 128,
    "name": "ml.m5.8xlarge",
    "vcpuNum": 32
   },
   {
    "_defaultOrder": 9,
    "_isFastLaunch": false,
    "category": "General purpose",
    "gpuNum": 0,
    "hideHardwareSpecs": false,
    "memoryGiB": 192,
    "name": "ml.m5.12xlarge",
    "vcpuNum": 48
   },
   {
    "_defaultOrder": 10,
    "_isFastLaunch": false,
    "category": "General purpose",
    "gpuNum": 0,
    "hideHardwareSpecs": false,
    "memoryGiB": 256,
    "name": "ml.m5.16xlarge",
    "vcpuNum": 64
   },
   {
    "_defaultOrder": 11,
    "_isFastLaunch": false,
    "category": "General purpose",
    "gpuNum": 0,
    "hideHardwareSpecs": false,
    "memoryGiB": 384,
    "name": "ml.m5.24xlarge",
    "vcpuNum": 96
   },
   {
    "_defaultOrder": 12,
    "_isFastLaunch": false,
    "category": "General purpose",
    "gpuNum": 0,
    "hideHardwareSpecs": false,
    "memoryGiB": 8,
    "name": "ml.m5d.large",
    "vcpuNum": 2
   },
   {
    "_defaultOrder": 13,
    "_isFastLaunch": false,
    "category": "General purpose",
    "gpuNum": 0,
    "hideHardwareSpecs": false,
    "memoryGiB": 16,
    "name": "ml.m5d.xlarge",
    "vcpuNum": 4
   },
   {
    "_defaultOrder": 14,
    "_isFastLaunch": false,
    "category": "General purpose",
    "gpuNum": 0,
    "hideHardwareSpecs": false,
    "memoryGiB": 32,
    "name": "ml.m5d.2xlarge",
    "vcpuNum": 8
   },
   {
    "_defaultOrder": 15,
    "_isFastLaunch": false,
    "category": "General purpose",
    "gpuNum": 0,
    "hideHardwareSpecs": false,
    "memoryGiB": 64,
    "name": "ml.m5d.4xlarge",
    "vcpuNum": 16
   },
   {
    "_defaultOrder": 16,
    "_isFastLaunch": false,
    "category": "General purpose",
    "gpuNum": 0,
    "hideHardwareSpecs": false,
    "memoryGiB": 128,
    "name": "ml.m5d.8xlarge",
    "vcpuNum": 32
   },
   {
    "_defaultOrder": 17,
    "_isFastLaunch": false,
    "category": "General purpose",
    "gpuNum": 0,
    "hideHardwareSpecs": false,
    "memoryGiB": 192,
    "name": "ml.m5d.12xlarge",
    "vcpuNum": 48
   },
   {
    "_defaultOrder": 18,
    "_isFastLaunch": false,
    "category": "General purpose",
    "gpuNum": 0,
    "hideHardwareSpecs": false,
    "memoryGiB": 256,
    "name": "ml.m5d.16xlarge",
    "vcpuNum": 64
   },
   {
    "_defaultOrder": 19,
    "_isFastLaunch": false,
    "category": "General purpose",
    "gpuNum": 0,
    "hideHardwareSpecs": false,
    "memoryGiB": 384,
    "name": "ml.m5d.24xlarge",
    "vcpuNum": 96
   },
   {
    "_defaultOrder": 20,
    "_isFastLaunch": false,
    "category": "General purpose",
    "gpuNum": 0,
    "hideHardwareSpecs": true,
    "memoryGiB": 0,
    "name": "ml.geospatial.interactive",
    "supportedImageNames": [
     "sagemaker-geospatial-v1-0"
    ],
    "vcpuNum": 0
   },
   {
    "_defaultOrder": 21,
    "_isFastLaunch": true,
    "category": "Compute optimized",
    "gpuNum": 0,
    "hideHardwareSpecs": false,
    "memoryGiB": 4,
    "name": "ml.c5.large",
    "vcpuNum": 2
   },
   {
    "_defaultOrder": 22,
    "_isFastLaunch": false,
    "category": "Compute optimized",
    "gpuNum": 0,
    "hideHardwareSpecs": false,
    "memoryGiB": 8,
    "name": "ml.c5.xlarge",
    "vcpuNum": 4
   },
   {
    "_defaultOrder": 23,
    "_isFastLaunch": false,
    "category": "Compute optimized",
    "gpuNum": 0,
    "hideHardwareSpecs": false,
    "memoryGiB": 16,
    "name": "ml.c5.2xlarge",
    "vcpuNum": 8
   },
   {
    "_defaultOrder": 24,
    "_isFastLaunch": false,
    "category": "Compute optimized",
    "gpuNum": 0,
    "hideHardwareSpecs": false,
    "memoryGiB": 32,
    "name": "ml.c5.4xlarge",
    "vcpuNum": 16
   },
   {
    "_defaultOrder": 25,
    "_isFastLaunch": false,
    "category": "Compute optimized",
    "gpuNum": 0,
    "hideHardwareSpecs": false,
    "memoryGiB": 72,
    "name": "ml.c5.9xlarge",
    "vcpuNum": 36
   },
   {
    "_defaultOrder": 26,
    "_isFastLaunch": false,
    "category": "Compute optimized",
    "gpuNum": 0,
    "hideHardwareSpecs": false,
    "memoryGiB": 96,
    "name": "ml.c5.12xlarge",
    "vcpuNum": 48
   },
   {
    "_defaultOrder": 27,
    "_isFastLaunch": false,
    "category": "Compute optimized",
    "gpuNum": 0,
    "hideHardwareSpecs": false,
    "memoryGiB": 144,
    "name": "ml.c5.18xlarge",
    "vcpuNum": 72
   },
   {
    "_defaultOrder": 28,
    "_isFastLaunch": false,
    "category": "Compute optimized",
    "gpuNum": 0,
    "hideHardwareSpecs": false,
    "memoryGiB": 192,
    "name": "ml.c5.24xlarge",
    "vcpuNum": 96
   },
   {
    "_defaultOrder": 29,
    "_isFastLaunch": true,
    "category": "Accelerated computing",
    "gpuNum": 1,
    "hideHardwareSpecs": false,
    "memoryGiB": 16,
    "name": "ml.g4dn.xlarge",
    "vcpuNum": 4
   },
   {
    "_defaultOrder": 30,
    "_isFastLaunch": false,
    "category": "Accelerated computing",
    "gpuNum": 1,
    "hideHardwareSpecs": false,
    "memoryGiB": 32,
    "name": "ml.g4dn.2xlarge",
    "vcpuNum": 8
   },
   {
    "_defaultOrder": 31,
    "_isFastLaunch": false,
    "category": "Accelerated computing",
    "gpuNum": 1,
    "hideHardwareSpecs": false,
    "memoryGiB": 64,
    "name": "ml.g4dn.4xlarge",
    "vcpuNum": 16
   },
   {
    "_defaultOrder": 32,
    "_isFastLaunch": false,
    "category": "Accelerated computing",
    "gpuNum": 1,
    "hideHardwareSpecs": false,
    "memoryGiB": 128,
    "name": "ml.g4dn.8xlarge",
    "vcpuNum": 32
   },
   {
    "_defaultOrder": 33,
    "_isFastLaunch": false,
    "category": "Accelerated computing",
    "gpuNum": 4,
    "hideHardwareSpecs": false,
    "memoryGiB": 192,
    "name": "ml.g4dn.12xlarge",
    "vcpuNum": 48
   },
   {
    "_defaultOrder": 34,
    "_isFastLaunch": false,
    "category": "Accelerated computing",
    "gpuNum": 1,
    "hideHardwareSpecs": false,
    "memoryGiB": 256,
    "name": "ml.g4dn.16xlarge",
    "vcpuNum": 64
   },
   {
    "_defaultOrder": 35,
    "_isFastLaunch": false,
    "category": "Accelerated computing",
    "gpuNum": 1,
    "hideHardwareSpecs": false,
    "memoryGiB": 61,
    "name": "ml.p3.2xlarge",
    "vcpuNum": 8
   },
   {
    "_defaultOrder": 36,
    "_isFastLaunch": false,
    "category": "Accelerated computing",
    "gpuNum": 4,
    "hideHardwareSpecs": false,
    "memoryGiB": 244,
    "name": "ml.p3.8xlarge",
    "vcpuNum": 32
   },
   {
    "_defaultOrder": 37,
    "_isFastLaunch": false,
    "category": "Accelerated computing",
    "gpuNum": 8,
    "hideHardwareSpecs": false,
    "memoryGiB": 488,
    "name": "ml.p3.16xlarge",
    "vcpuNum": 64
   },
   {
    "_defaultOrder": 38,
    "_isFastLaunch": false,
    "category": "Accelerated computing",
    "gpuNum": 8,
    "hideHardwareSpecs": false,
    "memoryGiB": 768,
    "name": "ml.p3dn.24xlarge",
    "vcpuNum": 96
   },
   {
    "_defaultOrder": 39,
    "_isFastLaunch": false,
    "category": "Memory Optimized",
    "gpuNum": 0,
    "hideHardwareSpecs": false,
    "memoryGiB": 16,
    "name": "ml.r5.large",
    "vcpuNum": 2
   },
   {
    "_defaultOrder": 40,
    "_isFastLaunch": false,
    "category": "Memory Optimized",
    "gpuNum": 0,
    "hideHardwareSpecs": false,
    "memoryGiB": 32,
    "name": "ml.r5.xlarge",
    "vcpuNum": 4
   },
   {
    "_defaultOrder": 41,
    "_isFastLaunch": false,
    "category": "Memory Optimized",
    "gpuNum": 0,
    "hideHardwareSpecs": false,
    "memoryGiB": 64,
    "name": "ml.r5.2xlarge",
    "vcpuNum": 8
   },
   {
    "_defaultOrder": 42,
    "_isFastLaunch": false,
    "category": "Memory Optimized",
    "gpuNum": 0,
    "hideHardwareSpecs": false,
    "memoryGiB": 128,
    "name": "ml.r5.4xlarge",
    "vcpuNum": 16
   },
   {
    "_defaultOrder": 43,
    "_isFastLaunch": false,
    "category": "Memory Optimized",
    "gpuNum": 0,
    "hideHardwareSpecs": false,
    "memoryGiB": 256,
    "name": "ml.r5.8xlarge",
    "vcpuNum": 32
   },
   {
    "_defaultOrder": 44,
    "_isFastLaunch": false,
    "category": "Memory Optimized",
    "gpuNum": 0,
    "hideHardwareSpecs": false,
    "memoryGiB": 384,
    "name": "ml.r5.12xlarge",
    "vcpuNum": 48
   },
   {
    "_defaultOrder": 45,
    "_isFastLaunch": false,
    "category": "Memory Optimized",
    "gpuNum": 0,
    "hideHardwareSpecs": false,
    "memoryGiB": 512,
    "name": "ml.r5.16xlarge",
    "vcpuNum": 64
   },
   {
    "_defaultOrder": 46,
    "_isFastLaunch": false,
    "category": "Memory Optimized",
    "gpuNum": 0,
    "hideHardwareSpecs": false,
    "memoryGiB": 768,
    "name": "ml.r5.24xlarge",
    "vcpuNum": 96
   },
   {
    "_defaultOrder": 47,
    "_isFastLaunch": false,
    "category": "Accelerated computing",
    "gpuNum": 1,
    "hideHardwareSpecs": false,
    "memoryGiB": 16,
    "name": "ml.g5.xlarge",
    "vcpuNum": 4
   },
   {
    "_defaultOrder": 48,
    "_isFastLaunch": false,
    "category": "Accelerated computing",
    "gpuNum": 1,
    "hideHardwareSpecs": false,
    "memoryGiB": 32,
    "name": "ml.g5.2xlarge",
    "vcpuNum": 8
   },
   {
    "_defaultOrder": 49,
    "_isFastLaunch": false,
    "category": "Accelerated computing",
    "gpuNum": 1,
    "hideHardwareSpecs": false,
    "memoryGiB": 64,
    "name": "ml.g5.4xlarge",
    "vcpuNum": 16
   },
   {
    "_defaultOrder": 50,
    "_isFastLaunch": false,
    "category": "Accelerated computing",
    "gpuNum": 1,
    "hideHardwareSpecs": false,
    "memoryGiB": 128,
    "name": "ml.g5.8xlarge",
    "vcpuNum": 32
   },
   {
    "_defaultOrder": 51,
    "_isFastLaunch": false,
    "category": "Accelerated computing",
    "gpuNum": 1,
    "hideHardwareSpecs": false,
    "memoryGiB": 256,
    "name": "ml.g5.16xlarge",
    "vcpuNum": 64
   },
   {
    "_defaultOrder": 52,
    "_isFastLaunch": false,
    "category": "Accelerated computing",
    "gpuNum": 4,
    "hideHardwareSpecs": false,
    "memoryGiB": 192,
    "name": "ml.g5.12xlarge",
    "vcpuNum": 48
   },
   {
    "_defaultOrder": 53,
    "_isFastLaunch": false,
    "category": "Accelerated computing",
    "gpuNum": 4,
    "hideHardwareSpecs": false,
    "memoryGiB": 384,
    "name": "ml.g5.24xlarge",
    "vcpuNum": 96
   },
   {
    "_defaultOrder": 54,
    "_isFastLaunch": false,
    "category": "Accelerated computing",
    "gpuNum": 8,
    "hideHardwareSpecs": false,
    "memoryGiB": 768,
    "name": "ml.g5.48xlarge",
    "vcpuNum": 192
   },
   {
    "_defaultOrder": 55,
    "_isFastLaunch": false,
    "category": "Accelerated computing",
    "gpuNum": 8,
    "hideHardwareSpecs": false,
    "memoryGiB": 1152,
    "name": "ml.p4d.24xlarge",
    "vcpuNum": 96
   },
   {
    "_defaultOrder": 56,
    "_isFastLaunch": false,
    "category": "Accelerated computing",
    "gpuNum": 8,
    "hideHardwareSpecs": false,
    "memoryGiB": 1152,
    "name": "ml.p4de.24xlarge",
    "vcpuNum": 96
   },
   {
    "_defaultOrder": 57,
    "_isFastLaunch": false,
    "category": "Accelerated computing",
    "gpuNum": 0,
    "hideHardwareSpecs": false,
    "memoryGiB": 32,
    "name": "ml.trn1.2xlarge",
    "vcpuNum": 8
   },
   {
    "_defaultOrder": 58,
    "_isFastLaunch": false,
    "category": "Accelerated computing",
    "gpuNum": 0,
    "hideHardwareSpecs": false,
    "memoryGiB": 512,
    "name": "ml.trn1.32xlarge",
    "vcpuNum": 128
   },
   {
    "_defaultOrder": 59,
    "_isFastLaunch": false,
    "category": "Accelerated computing",
    "gpuNum": 0,
    "hideHardwareSpecs": false,
    "memoryGiB": 512,
    "name": "ml.trn1n.32xlarge",
    "vcpuNum": 128
   }
  ],
  "instance_type": "ml.t3.medium",
  "kernelspec": {
   "display_name": "Python 3 (ipykernel)",
   "language": "python",
   "name": "python3"
  },
  "language_info": {
   "codemirror_mode": {
    "name": "ipython",
    "version": 3
   },
   "file_extension": ".py",
   "mimetype": "text/x-python",
   "name": "python",
   "nbconvert_exporter": "python",
   "pygments_lexer": "ipython3",
   "version": "3.12.9"
  },
  "lcc_arn": "arn:aws:sagemaker:us-east-1:641467148081:studio-lifecycle-config/lcc-kernel"
 },
 "nbformat": 4,
 "nbformat_minor": 5
}

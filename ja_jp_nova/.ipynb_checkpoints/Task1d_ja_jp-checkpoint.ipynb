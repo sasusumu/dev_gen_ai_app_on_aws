{
 "cells": [
  {
   "cell_type": "markdown",
   "id": "0",
   "metadata": {
    "tags": []
   },
   "source": [
    "# タスク 1c: テキスト生成の実行 (converse api を使用)\n",
    "\n",
    "このノートブックでは、サポートエンジニアから受けたカスタマーサービスの品質について否定的なフィードバックを提供した顧客に対して、大規模言語モデル (LLM) を使用してメール返信を生成する方法を学習します。このノートブックでは、顧客の以前のメールに基づいて、お礼のメモ付きのメールを生成します。Amazon Nova Lite モデルは、Boto3 クライアントで Amazon Bedrock API で使用します。\n",
    "\n",
    "このタスクで使用されるプロンプトは、ゼロショットプロンプトと呼ばれます。ゼロショットプロンプトでは、タスクまたは目的の出力を平易な言葉で言語モデルに説明します。その後、モデルは事前にトレーニングされた知識と機能を使用して、提供されたプロンプトのみに基づいて応答を生成したり、タスクを完了したりします。"
   ]
  },
  {
   "cell_type": "markdown",
   "id": "1",
   "metadata": {},
   "source": [
    "#### シナリオ\n",
    "あなたはAnyCompanyのカスタマーサービスマネージャーの Bob です。お客様の中には、カスタマーサポートエンジニアによるサービスに満足していない方がいらっしゃり、サービスについて否定的なフィードバックをされています。今、あなたはそうしたお客様に対し、謙虚にサービスのご不満をお詫びし、信頼回復したいと考えています。LLMを活用することで、お客様との過去のメールのやり取りからお客様の感情を汲み取った上で、人間らしくパーソナライズされたメールを一括で生成する必要があります。"
   ]
  },
  {
   "cell_type": "markdown",
   "id": "2",
   "metadata": {},
   "source": [
    "## タスク 1c.1: 環境のセットアップ\n",
    "\n",
    "このタスクでは、環境をセットアップします。"
   ]
  },
  {
   "cell_type": "code",
   "execution_count": 1,
   "id": "3",
   "metadata": {
    "tags": []
   },
   "outputs": [],
   "source": [
    "#Create a service client by name using the default session.\n",
    "import json\n",
    "import os\n",
    "import sys\n",
    "\n",
    "import boto3\n",
    "import botocore\n",
    "\n",
    "module_path = \"..\"\n",
    "sys.path.append(os.path.abspath(module_path))\n",
    "\n",
    "bedrock_client = boto3.client('bedrock-runtime',region_name=os.environ.get(\"AWS_DEFAULT_REGION\", None))"
   ]
  },
  {
   "cell_type": "markdown",
   "id": "4",
   "metadata": {},
   "source": [
    "## タスク 1c.2: テキストの生成\n",
    "\n",
    "このタスクでは、Amazon Bedrock サービスがメールを生成するための入力を準備します。"
   ]
  },
  {
   "cell_type": "code",
   "execution_count": 2,
   "id": "5",
   "metadata": {
    "execution": {
     "iopub.execute_input": "2025-10-23T10:50:13.364018Z",
     "iopub.status.busy": "2025-10-23T10:50:13.363745Z",
     "iopub.status.idle": "2025-10-23T10:50:13.367428Z",
     "shell.execute_reply": "2025-10-23T10:50:13.366485Z",
     "shell.execute_reply.started": "2025-10-23T10:50:13.363994Z"
    },
    "tags": []
   },
   "outputs": [],
   "source": [
    "# create the prompt\n",
    "prompt_data = \"\"\"\n",
    "指示: AnyCompany のカスタマーサービスマネージャーである Bob から、当社のカスタマーサポートエンジニアが提供したサービスについて否定的なフィードバックを提供した顧客「John Doe」にメールを書いてください。\"\"\""
   ]
  },
  {
   "cell_type": "markdown",
   "id": "6",
   "metadata": {},
   "source": [
    "次に、Amazon Nova Lite を呼び出します。\n",
    "\n",
    "<i aria-hidden=\"true\" class=\"fas fa-sticky-note\" style=\"color:#563377\"></i> **注:** Amazon Nova Lite は、約 300kトークンのコンテキストウィンドウをサポートし、次のパラメータを受け入れます。:\n",
    "- `messages`: ロールとコンテンツを持つメッセージオブジェクトの配列\n",
    "- `inferenceConfig`: これらは、モデルが出力を生成する際に考慮するパラメータです。"
   ]
  },
  {
   "cell_type": "markdown",
   "id": "7",
   "metadata": {},
   "source": [
    "Amazon Bedrock API は、次のものを受け入れる API `invoke_model` を提供します:\n",
    "- `modelId`: これは、Amazon Bedrock で使用できるさまざまな基盤モデルのモデル ARN です\n",
    "- `accept`: 入力リクエストのタイプ\n",
    "- `contentType`: 出力のコンテンツ タイプ\n",
    "- `body`: プロンプトと構成で構成される JSON 文字列\n",
    "\n",
    "使用可能なテキスト生成モデル ID については、[ドキュメント](https://docs.aws.amazon.com/bedrock/latest/userguide/model-ids-arns.html) を参照してください。"
   ]
  },
  {
   "cell_type": "markdown",
   "id": "8",
   "metadata": {},
   "source": [
    "## タスク 1a.3: Amazon Nova Lite 言語モデルを呼び出す\n",
    "\n",
    "このタスクでは、以前に作成したプロンプトに基づいてモデルが出力を生成する方法を調べます。"
   ]
  },
  {
   "cell_type": "markdown",
   "id": "9",
   "metadata": {},
   "source": [
    "### 完全な出力生成\n",
    "\n",
    "このメールは、入力リクエストを理解し、さまざまなモダリティに対する固有の理解を活用して、Amazon Nova Lite モデルを使用して生成されます。この　API　は同期リクエストのため、モデルによって出力全体が生成されるまで待機します。"
   ]
  },
  {
   "cell_type": "code",
   "execution_count": 3,
   "id": "10",
   "metadata": {
    "execution": {
     "iopub.execute_input": "2025-10-23T10:50:17.915916Z",
     "iopub.status.busy": "2025-10-23T10:50:17.915629Z",
     "iopub.status.idle": "2025-10-23T10:50:19.703017Z",
     "shell.execute_reply": "2025-10-23T10:50:19.702237Z",
     "shell.execute_reply.started": "2025-10-23T10:50:17.915871Z"
    },
    "tags": []
   },
   "outputs": [],
   "source": [
    "#invoke model\n",
    "modelId = 'amazon.nova-lite-v1:0' # change this to use a different version from the model provider\n",
    "outputText = \"\\n\"\n",
    "try:\n",
    "\n",
    "    response = bedrock_client.converse(\n",
    "        messages=[\n",
    "            {\n",
    "                \"role\": \"user\",\n",
    "                \"content\": [\n",
    "                    {\n",
    "                        \"text\": prompt_data\n",
    "                    }\n",
    "                ]\n",
    "            }\n",
    "        ],\n",
    "        modelId=modelId,\n",
    "        inferenceConfig = {\n",
    "            \"maxTokens\": 8192,\n",
    "            \"stopSequences\": [],\n",
    "            \"temperature\": 0,\n",
    "            \"topP\": 0.9\n",
    "        }\n",
    "    )\n",
    "    outputText = response.get('output').get('message').get('content')[0].get('text')\n",
    "\n",
    "except botocore.exceptions.ClientError as error:\n",
    "    \n",
    "    if error.response['Error']['Code'] == 'AccessDeniedException':\n",
    "           print(f\"\\x1b[41m{error.response['Error']['Message']}\\\n",
    "                \\nTo troubeshoot this issue please refer to the following resources.\\\n",
    "                 \\nhttps://docs.aws.amazon.com/IAM/latest/UserGuide/troubleshoot_access-denied.html\\\n",
    "                 \\nhttps://docs.aws.amazon.com/bedrock/latest/userguide/security-iam.html\\x1b[0m\\n\")\n",
    "        \n",
    "    else:\n",
    "        raise error\n"
   ]
  },
  {
   "cell_type": "code",
   "execution_count": 4,
   "id": "11",
   "metadata": {
    "execution": {
     "iopub.execute_input": "2025-10-23T10:50:19.704562Z",
     "iopub.status.busy": "2025-10-23T10:50:19.704008Z",
     "iopub.status.idle": "2025-10-23T10:50:19.708847Z",
     "shell.execute_reply": "2025-10-23T10:50:19.708175Z",
     "shell.execute_reply.started": "2025-10-23T10:50:19.704530Z"
    },
    "tags": []
   },
   "outputs": [
    {
     "name": "stdout",
     "output_type": "stream",
     "text": [
      "件名: サービスに関するフィードバックに対する回答\n",
      "\n",
      "親愛なるJohn Doe様、\n",
      "\n",
      "お世話になっております。AnyCompanyのカスタマーサービスマネージャーであるBobと申します。先日、当社のカスタマーサポートエンジニアが提供したサービスについて貴重なフィードバックをいただき、誠にありがとうございます。お客様の貴重な意見を真摯に受け止め、改善に向けて取り組んでまいります。\n",
      "\n",
      "お客様からいただいたフィードバックを重く受け止め、現在、関連部門と協力して問題点を詳細に調査し、再発防止策を講じています。また、お客様の体験を向上させるための具体的な改善策についても検討中です。\n",
      "\n",
      "お客様の貴重なご意見が、当社のサービス向上につながることを心から願っております。今後ともAnyCompanyをよろしくお願いいたします。\n",
      "\n",
      "何かご不明点やご要望がございましたら、お気軽に当社までお問い合わせください。お客様の満足を第一に考え、サービスの向上に努めていく所存です。\n",
      "\n",
      "敬具\n",
      "\n",
      "Bob  \n",
      "カスタマーサービスマネージャー  \n",
      "AnyCompany  \n",
      "[連絡先情報]\n"
     ]
    }
   ],
   "source": [
    "# Print the complete response from Nova Lite\n",
    "print(outputText)\n"
   ]
  },
  {
   "cell_type": "markdown",
   "id": "12",
   "metadata": {},
   "source": [
    "### ストリーミング出力生成\n",
    "\n",
    "Bedrock では、モデルによってチャンクの形式で生成される出力をストリーミングすることもできます。このメールは、ストリーミング オプションを使用してモデルを呼び出すことによって生成されます。`invoke_model_with_response_stream` は、読み取り可能な `ResponseStream` を返します。"
   ]
  },
  {
   "cell_type": "code",
   "execution_count": 9,
   "id": "13",
   "metadata": {
    "execution": {
     "iopub.execute_input": "2025-10-23T10:53:57.419615Z",
     "iopub.status.busy": "2025-10-23T10:53:57.419356Z",
     "iopub.status.idle": "2025-10-23T10:53:58.760123Z",
     "shell.execute_reply": "2025-10-23T10:53:58.759598Z",
     "shell.execute_reply.started": "2025-10-23T10:53:57.419594Z"
    },
    "tags": []
   },
   "outputs": [
    {
     "name": "stdout",
     "output_type": "stream",
     "text": [
      "chunk {i}\n",
      "chunk {i}\n",
      "件名: chunk {i}\n",
      "サービスchunk {i}\n",
      "に関するchunk {i}\n",
      "貴chunk {i}\n",
      "重なchunk {i}\n",
      "フィードバックchunk {i}\n",
      "に対するchunk {i}\n",
      "謝chunk {i}\n",
      "意chunk {i}\n",
      "\n",
      "\n",
      "親chunk {i}\n",
      "愛chunk {i}\n",
      "なるchunk {i}\n",
      " John Doe chunk {i}\n",
      "様、\n",
      "\n",
      "chunk {i}\n",
      "おchunk {i}\n",
      "世chunk {i}\n",
      "話にchunk {i}\n",
      "なっておりますchunk {i}\n",
      "。Anychunk {i}\n",
      "Company のchunk {i}\n",
      "カスタマーサービスchunk {i}\n",
      "マネージャーであるchunk {i}\n",
      " Bob とchunk {i}\n",
      "申chunk {i}\n",
      "しますchunk {i}\n",
      "。先chunk {i}\n",
      "日chunk {i}\n",
      "、当chunk {i}\n",
      "社のchunk {i}\n",
      "カスタマーサポートchunk {i}\n",
      "エンジニアがchunk {i}\n",
      "提供したサービスについてchunk {i}\n",
      "貴chunk {i}\n",
      "重なフィードバックをchunk {i}\n",
      "いただきましたことchunk {i}\n",
      "、心chunk {i}\n",
      "よりchunk {i}\n",
      "感謝申chunk {i}\n",
      "し上げchunk {i}\n",
      "ます。\n",
      "\n",
      "お客様chunk {i}\n",
      "のchunk {i}\n",
      "貴重なchunk {i}\n",
      "意見を真chunk {i}\n",
      "摯に受けchunk {i}\n",
      "止chunk {i}\n",
      "め、今chunk {i}\n",
      "後サービスchunk {i}\n",
      "のchunk {i}\n",
      "向chunk {i}\n",
      "上に向chunk {i}\n",
      "けて努chunk {i}\n",
      "力してchunk {i}\n",
      "まいります。お客様chunk {i}\n",
      "のchunk {i}\n",
      "体験chunk {i}\n",
      "がchunk {i}\n",
      "向chunk {i}\n",
      "上するchunk {i}\n",
      "よう、私たちchunk {i}\n",
      "はchunk {i}\n",
      "常にchunk {i}\n",
      "改chunk {i}\n",
      "善にchunk {i}\n",
      "取りchunk {i}\n",
      "組んでおchunk {i}\n",
      "ります。\n",
      "\n",
      "chunk {i}\n",
      "具chunk {i}\n",
      "体的なchunk {i}\n",
      "ごchunk {i}\n",
      "意chunk {i}\n",
      "見やchunk {i}\n",
      "ごchunk {i}\n",
      "要chunk {i}\n",
      "望がchunk {i}\n",
      "ございましたらchunk {i}\n",
      "、いつchunk {i}\n",
      "でもおchunk {i}\n",
      "聞chunk {i}\n",
      "かchunk {i}\n",
      "せくださいchunk {i}\n",
      "。お客様chunk {i}\n",
      "のchunk {i}\n",
      "満足はchunk {i}\n",
      "私たちchunk {i}\n",
      "にとってchunk {i}\n",
      "最もchunk {i}\n",
      "重要なことですchunk {i}\n",
      "。\n",
      "\n",
      "今chunk {i}\n",
      "後ともchunk {i}\n",
      " Anychunk {i}\n",
      "Company をchunk {i}\n",
      "よchunk {i}\n",
      "ろしくお願いchunk {i}\n",
      "いたします。\n",
      "\n",
      "敬chunk {i}\n",
      "具chunk {i}\n",
      "\n",
      "\n",
      "Bobchunk {i}\n",
      " [Your Lastchunk {i}\n",
      " Name]  \n",
      "chunk {i}\n",
      "カスタchunk {i}\n",
      "マーサービスマネージャー  \n",
      "chunk {i}\n",
      "AnyCompany  \n",
      "chunk {i}\n",
      "[Contactchunk {i}\n",
      " Information]  \n",
      "[Companychunk {i}\n",
      " Websitechunk {i}\n",
      "]"
     ]
    }
   ],
   "source": [
    "# invoke model with response stream\n",
    "output = []\n",
    "try:\n",
    "    \n",
    "    streaming_response = bedrock_client.converse_stream(\n",
    "        messages=[\n",
    "            {\n",
    "                \"role\": \"user\",\n",
    "                \"content\": [\n",
    "                    {\n",
    "                        \"text\": prompt_data\n",
    "                    }\n",
    "                ]\n",
    "            }\n",
    "        ],\n",
    "        modelId=modelId,\n",
    "        inferenceConfig = {\n",
    "            \"maxTokens\": 8192,\n",
    "            \"stopSequences\": [],\n",
    "            \"temperature\": 0,\n",
    "            \"topP\": 0.9\n",
    "        }\n",
    "    )\n",
    "    \n",
    "    output = []\n",
    "    i = 0\n",
    "\n",
    "    # Extract and print the streamed response text in real-time.\n",
    "    for chunk in streaming_response[\"stream\"]:\n",
    "        if \"contentBlockDelta\" in chunk:\n",
    "            text = chunk[\"contentBlockDelta\"][\"delta\"][\"text\"]\n",
    "            print(\"chunk {i}\")\n",
    "            print(text, end=\"\")\n",
    "            output.append(text)\n",
    "            i += 1\n",
    "   \n",
    "except botocore.exceptions.ClientError as error:\n",
    "    \n",
    "    if error.response['Error']['Code'] == 'AccessDeniedException':\n",
    "           print(f\"\\x1b[41m{error.response['Error']['Message']}\\\n",
    "                \\nTo troubeshoot this issue please refer to the following resources.\\\n",
    "                 \\nhttps://docs.aws.amazon.com/IAM/latest/UserGuide/troubleshoot_access-denied.html\\\n",
    "                 \\nhttps://docs.aws.amazon.com/bedrock/latest/userguide/security-iam.html\\x1b[0m\\n\")\n",
    "        \n",
    "    else:\n",
    "        raise error"
   ]
  },
  {
   "cell_type": "markdown",
   "id": "14",
   "metadata": {},
   "source": [
    "レスポンス付きストリーム アプローチは、モデルの出力をすばやく取得するのに役立ち、ユーザーが読みながらサービスが出力を完了できるようにします。これは、モデルに長いテキストを生成するように要求するユースケースに役立ちます。後で、生成されたすべてのチャンクを組み合わせて完全な出力を形成し、ユースケースに使用できます。"
   ]
  },
  {
   "cell_type": "code",
   "execution_count": 6,
   "id": "15",
   "metadata": {
    "execution": {
     "iopub.execute_input": "2025-10-23T10:50:36.061008Z",
     "iopub.status.busy": "2025-10-23T10:50:36.060717Z",
     "iopub.status.idle": "2025-10-23T10:50:36.064947Z",
     "shell.execute_reply": "2025-10-23T10:50:36.064098Z",
     "shell.execute_reply.started": "2025-10-23T10:50:36.060979Z"
    },
    "tags": []
   },
   "outputs": [
    {
     "name": "stdout",
     "output_type": "stream",
     "text": [
      "件名: サービスに関するフィードバックに対する回答\n",
      "\n",
      "親愛なるJohn Doe様、\n",
      "\n",
      "お世話になっております。AnyCompanyのカスタマーサービスマネージャーであるBobと申し上げます。\n",
      "\n",
      "先日、当社のカスタマーサポートエンジニアが提供したサービスについて貴重なフィードバックをいただき、誠にありがとうございます。お客様の貴重な意見を真摯に受け止め、改善に向けて取り組んでいくことが重要であると考えております。\n",
      "\n",
      "お客様からいただいたフィードバックを重視し、現在、サービスの向上に向けて具体的な対策を検討中です。お客様の体験を向上させるために、以下の点を改善していきます：\n",
      "\n",
      "1. **迅速な対応**：お客様からの問い合わせにできるだけ早く対応できるよう、チームの対応力を強化します。\n",
      "2. **技術的なサポートの質**：エンジニアの技術力を向上させるためのトレーニングを継続的に実施します。\n",
      "3. **コミュニケーションの改善**：お客様とのコミュニケーションをよりスムーズにし、理解しやすい説明を提供できるよう努めます。\n",
      "\n",
      "お客様の貴重なご意見が、私たちのサービス向上に大きく貢献しています。今後もお客様に満足いただけるサービスを提供できるよう、全力を尽くしてまいります。\n",
      "\n",
      "もし、さらなる詳細や具体的な改善点についてご意見がございましたら、お気軽にご連絡ください。お客様からのフィードバックを大切にし、今後もより良いサービスを提供できるよう努力してまいります。\n",
      "\n",
      "お客様のご健康とご多幸をお祈りしております。\n",
      "\n",
      "敬具\n",
      "\n",
      "Bob\n",
      "AnyCompany カスタマーサービスマネージャー\n",
      "[連絡先]\n"
     ]
    }
   ],
   "source": [
    "complete_output = ''.join(output)\n",
    "print(complete_output)"
   ]
  },
  {
   "cell_type": "markdown",
   "id": "16",
   "metadata": {},
   "source": [
    "\n",
    "これで、Amazon Bedrock API を使用するためのの基本的な boto3 SDK を試しました。この API を使用して、顧客の否定的なフィードバックに応答するメールを生成するユースケースを確認しました。\n",
    "\n",
    "### 試してみましょう\n",
    "- 特定のユースケースに合わせてプロンプトを変更し、さまざまなモデルの出力を評価します。\n",
    "- トークンの長さを変えることで、サービスのレイテンシと応答性がどのように変化するかを理解します。\n",
    "- さまざまなプロンプトエンジニアリングの原則を適用して、より良い出力を取得します。\n",
    "\n",
    "### クリーンアップ\n",
    "\n",
    "あなたはこのノートブックを完了しました。ラボの次のパートに移るには、下記を実行してください。:\n",
    "\n",
    "- このノートブックファイルを閉じ、 **Task1b_ja_jp.ipynb** を開きます。"
   ]
  }
 ],
 "metadata": {
  "availableInstances": [
   {
    "_defaultOrder": 0,
    "_isFastLaunch": true,
    "category": "General purpose",
    "gpuNum": 0,
    "hideHardwareSpecs": false,
    "memoryGiB": 4,
    "name": "ml.t3.medium",
    "vcpuNum": 2
   },
   {
    "_defaultOrder": 1,
    "_isFastLaunch": false,
    "category": "General purpose",
    "gpuNum": 0,
    "hideHardwareSpecs": false,
    "memoryGiB": 8,
    "name": "ml.t3.large",
    "vcpuNum": 2
   },
   {
    "_defaultOrder": 2,
    "_isFastLaunch": false,
    "category": "General purpose",
    "gpuNum": 0,
    "hideHardwareSpecs": false,
    "memoryGiB": 16,
    "name": "ml.t3.xlarge",
    "vcpuNum": 4
   },
   {
    "_defaultOrder": 3,
    "_isFastLaunch": false,
    "category": "General purpose",
    "gpuNum": 0,
    "hideHardwareSpecs": false,
    "memoryGiB": 32,
    "name": "ml.t3.2xlarge",
    "vcpuNum": 8
   },
   {
    "_defaultOrder": 4,
    "_isFastLaunch": true,
    "category": "General purpose",
    "gpuNum": 0,
    "hideHardwareSpecs": false,
    "memoryGiB": 8,
    "name": "ml.m5.large",
    "vcpuNum": 2
   },
   {
    "_defaultOrder": 5,
    "_isFastLaunch": false,
    "category": "General purpose",
    "gpuNum": 0,
    "hideHardwareSpecs": false,
    "memoryGiB": 16,
    "name": "ml.m5.xlarge",
    "vcpuNum": 4
   },
   {
    "_defaultOrder": 6,
    "_isFastLaunch": false,
    "category": "General purpose",
    "gpuNum": 0,
    "hideHardwareSpecs": false,
    "memoryGiB": 32,
    "name": "ml.m5.2xlarge",
    "vcpuNum": 8
   },
   {
    "_defaultOrder": 7,
    "_isFastLaunch": false,
    "category": "General purpose",
    "gpuNum": 0,
    "hideHardwareSpecs": false,
    "memoryGiB": 64,
    "name": "ml.m5.4xlarge",
    "vcpuNum": 16
   },
   {
    "_defaultOrder": 8,
    "_isFastLaunch": false,
    "category": "General purpose",
    "gpuNum": 0,
    "hideHardwareSpecs": false,
    "memoryGiB": 128,
    "name": "ml.m5.8xlarge",
    "vcpuNum": 32
   },
   {
    "_defaultOrder": 9,
    "_isFastLaunch": false,
    "category": "General purpose",
    "gpuNum": 0,
    "hideHardwareSpecs": false,
    "memoryGiB": 192,
    "name": "ml.m5.12xlarge",
    "vcpuNum": 48
   },
   {
    "_defaultOrder": 10,
    "_isFastLaunch": false,
    "category": "General purpose",
    "gpuNum": 0,
    "hideHardwareSpecs": false,
    "memoryGiB": 256,
    "name": "ml.m5.16xlarge",
    "vcpuNum": 64
   },
   {
    "_defaultOrder": 11,
    "_isFastLaunch": false,
    "category": "General purpose",
    "gpuNum": 0,
    "hideHardwareSpecs": false,
    "memoryGiB": 384,
    "name": "ml.m5.24xlarge",
    "vcpuNum": 96
   },
   {
    "_defaultOrder": 12,
    "_isFastLaunch": false,
    "category": "General purpose",
    "gpuNum": 0,
    "hideHardwareSpecs": false,
    "memoryGiB": 8,
    "name": "ml.m5d.large",
    "vcpuNum": 2
   },
   {
    "_defaultOrder": 13,
    "_isFastLaunch": false,
    "category": "General purpose",
    "gpuNum": 0,
    "hideHardwareSpecs": false,
    "memoryGiB": 16,
    "name": "ml.m5d.xlarge",
    "vcpuNum": 4
   },
   {
    "_defaultOrder": 14,
    "_isFastLaunch": false,
    "category": "General purpose",
    "gpuNum": 0,
    "hideHardwareSpecs": false,
    "memoryGiB": 32,
    "name": "ml.m5d.2xlarge",
    "vcpuNum": 8
   },
   {
    "_defaultOrder": 15,
    "_isFastLaunch": false,
    "category": "General purpose",
    "gpuNum": 0,
    "hideHardwareSpecs": false,
    "memoryGiB": 64,
    "name": "ml.m5d.4xlarge",
    "vcpuNum": 16
   },
   {
    "_defaultOrder": 16,
    "_isFastLaunch": false,
    "category": "General purpose",
    "gpuNum": 0,
    "hideHardwareSpecs": false,
    "memoryGiB": 128,
    "name": "ml.m5d.8xlarge",
    "vcpuNum": 32
   },
   {
    "_defaultOrder": 17,
    "_isFastLaunch": false,
    "category": "General purpose",
    "gpuNum": 0,
    "hideHardwareSpecs": false,
    "memoryGiB": 192,
    "name": "ml.m5d.12xlarge",
    "vcpuNum": 48
   },
   {
    "_defaultOrder": 18,
    "_isFastLaunch": false,
    "category": "General purpose",
    "gpuNum": 0,
    "hideHardwareSpecs": false,
    "memoryGiB": 256,
    "name": "ml.m5d.16xlarge",
    "vcpuNum": 64
   },
   {
    "_defaultOrder": 19,
    "_isFastLaunch": false,
    "category": "General purpose",
    "gpuNum": 0,
    "hideHardwareSpecs": false,
    "memoryGiB": 384,
    "name": "ml.m5d.24xlarge",
    "vcpuNum": 96
   },
   {
    "_defaultOrder": 20,
    "_isFastLaunch": false,
    "category": "General purpose",
    "gpuNum": 0,
    "hideHardwareSpecs": true,
    "memoryGiB": 0,
    "name": "ml.geospatial.interactive",
    "supportedImageNames": [
     "sagemaker-geospatial-v1-0"
    ],
    "vcpuNum": 0
   },
   {
    "_defaultOrder": 21,
    "_isFastLaunch": true,
    "category": "Compute optimized",
    "gpuNum": 0,
    "hideHardwareSpecs": false,
    "memoryGiB": 4,
    "name": "ml.c5.large",
    "vcpuNum": 2
   },
   {
    "_defaultOrder": 22,
    "_isFastLaunch": false,
    "category": "Compute optimized",
    "gpuNum": 0,
    "hideHardwareSpecs": false,
    "memoryGiB": 8,
    "name": "ml.c5.xlarge",
    "vcpuNum": 4
   },
   {
    "_defaultOrder": 23,
    "_isFastLaunch": false,
    "category": "Compute optimized",
    "gpuNum": 0,
    "hideHardwareSpecs": false,
    "memoryGiB": 16,
    "name": "ml.c5.2xlarge",
    "vcpuNum": 8
   },
   {
    "_defaultOrder": 24,
    "_isFastLaunch": false,
    "category": "Compute optimized",
    "gpuNum": 0,
    "hideHardwareSpecs": false,
    "memoryGiB": 32,
    "name": "ml.c5.4xlarge",
    "vcpuNum": 16
   },
   {
    "_defaultOrder": 25,
    "_isFastLaunch": false,
    "category": "Compute optimized",
    "gpuNum": 0,
    "hideHardwareSpecs": false,
    "memoryGiB": 72,
    "name": "ml.c5.9xlarge",
    "vcpuNum": 36
   },
   {
    "_defaultOrder": 26,
    "_isFastLaunch": false,
    "category": "Compute optimized",
    "gpuNum": 0,
    "hideHardwareSpecs": false,
    "memoryGiB": 96,
    "name": "ml.c5.12xlarge",
    "vcpuNum": 48
   },
   {
    "_defaultOrder": 27,
    "_isFastLaunch": false,
    "category": "Compute optimized",
    "gpuNum": 0,
    "hideHardwareSpecs": false,
    "memoryGiB": 144,
    "name": "ml.c5.18xlarge",
    "vcpuNum": 72
   },
   {
    "_defaultOrder": 28,
    "_isFastLaunch": false,
    "category": "Compute optimized",
    "gpuNum": 0,
    "hideHardwareSpecs": false,
    "memoryGiB": 192,
    "name": "ml.c5.24xlarge",
    "vcpuNum": 96
   },
   {
    "_defaultOrder": 29,
    "_isFastLaunch": true,
    "category": "Accelerated computing",
    "gpuNum": 1,
    "hideHardwareSpecs": false,
    "memoryGiB": 16,
    "name": "ml.g4dn.xlarge",
    "vcpuNum": 4
   },
   {
    "_defaultOrder": 30,
    "_isFastLaunch": false,
    "category": "Accelerated computing",
    "gpuNum": 1,
    "hideHardwareSpecs": false,
    "memoryGiB": 32,
    "name": "ml.g4dn.2xlarge",
    "vcpuNum": 8
   },
   {
    "_defaultOrder": 31,
    "_isFastLaunch": false,
    "category": "Accelerated computing",
    "gpuNum": 1,
    "hideHardwareSpecs": false,
    "memoryGiB": 64,
    "name": "ml.g4dn.4xlarge",
    "vcpuNum": 16
   },
   {
    "_defaultOrder": 32,
    "_isFastLaunch": false,
    "category": "Accelerated computing",
    "gpuNum": 1,
    "hideHardwareSpecs": false,
    "memoryGiB": 128,
    "name": "ml.g4dn.8xlarge",
    "vcpuNum": 32
   },
   {
    "_defaultOrder": 33,
    "_isFastLaunch": false,
    "category": "Accelerated computing",
    "gpuNum": 4,
    "hideHardwareSpecs": false,
    "memoryGiB": 192,
    "name": "ml.g4dn.12xlarge",
    "vcpuNum": 48
   },
   {
    "_defaultOrder": 34,
    "_isFastLaunch": false,
    "category": "Accelerated computing",
    "gpuNum": 1,
    "hideHardwareSpecs": false,
    "memoryGiB": 256,
    "name": "ml.g4dn.16xlarge",
    "vcpuNum": 64
   },
   {
    "_defaultOrder": 35,
    "_isFastLaunch": false,
    "category": "Accelerated computing",
    "gpuNum": 1,
    "hideHardwareSpecs": false,
    "memoryGiB": 61,
    "name": "ml.p3.2xlarge",
    "vcpuNum": 8
   },
   {
    "_defaultOrder": 36,
    "_isFastLaunch": false,
    "category": "Accelerated computing",
    "gpuNum": 4,
    "hideHardwareSpecs": false,
    "memoryGiB": 244,
    "name": "ml.p3.8xlarge",
    "vcpuNum": 32
   },
   {
    "_defaultOrder": 37,
    "_isFastLaunch": false,
    "category": "Accelerated computing",
    "gpuNum": 8,
    "hideHardwareSpecs": false,
    "memoryGiB": 488,
    "name": "ml.p3.16xlarge",
    "vcpuNum": 64
   },
   {
    "_defaultOrder": 38,
    "_isFastLaunch": false,
    "category": "Accelerated computing",
    "gpuNum": 8,
    "hideHardwareSpecs": false,
    "memoryGiB": 768,
    "name": "ml.p3dn.24xlarge",
    "vcpuNum": 96
   },
   {
    "_defaultOrder": 39,
    "_isFastLaunch": false,
    "category": "Memory Optimized",
    "gpuNum": 0,
    "hideHardwareSpecs": false,
    "memoryGiB": 16,
    "name": "ml.r5.large",
    "vcpuNum": 2
   },
   {
    "_defaultOrder": 40,
    "_isFastLaunch": false,
    "category": "Memory Optimized",
    "gpuNum": 0,
    "hideHardwareSpecs": false,
    "memoryGiB": 32,
    "name": "ml.r5.xlarge",
    "vcpuNum": 4
   },
   {
    "_defaultOrder": 41,
    "_isFastLaunch": false,
    "category": "Memory Optimized",
    "gpuNum": 0,
    "hideHardwareSpecs": false,
    "memoryGiB": 64,
    "name": "ml.r5.2xlarge",
    "vcpuNum": 8
   },
   {
    "_defaultOrder": 42,
    "_isFastLaunch": false,
    "category": "Memory Optimized",
    "gpuNum": 0,
    "hideHardwareSpecs": false,
    "memoryGiB": 128,
    "name": "ml.r5.4xlarge",
    "vcpuNum": 16
   },
   {
    "_defaultOrder": 43,
    "_isFastLaunch": false,
    "category": "Memory Optimized",
    "gpuNum": 0,
    "hideHardwareSpecs": false,
    "memoryGiB": 256,
    "name": "ml.r5.8xlarge",
    "vcpuNum": 32
   },
   {
    "_defaultOrder": 44,
    "_isFastLaunch": false,
    "category": "Memory Optimized",
    "gpuNum": 0,
    "hideHardwareSpecs": false,
    "memoryGiB": 384,
    "name": "ml.r5.12xlarge",
    "vcpuNum": 48
   },
   {
    "_defaultOrder": 45,
    "_isFastLaunch": false,
    "category": "Memory Optimized",
    "gpuNum": 0,
    "hideHardwareSpecs": false,
    "memoryGiB": 512,
    "name": "ml.r5.16xlarge",
    "vcpuNum": 64
   },
   {
    "_defaultOrder": 46,
    "_isFastLaunch": false,
    "category": "Memory Optimized",
    "gpuNum": 0,
    "hideHardwareSpecs": false,
    "memoryGiB": 768,
    "name": "ml.r5.24xlarge",
    "vcpuNum": 96
   },
   {
    "_defaultOrder": 47,
    "_isFastLaunch": false,
    "category": "Accelerated computing",
    "gpuNum": 1,
    "hideHardwareSpecs": false,
    "memoryGiB": 16,
    "name": "ml.g5.xlarge",
    "vcpuNum": 4
   },
   {
    "_defaultOrder": 48,
    "_isFastLaunch": false,
    "category": "Accelerated computing",
    "gpuNum": 1,
    "hideHardwareSpecs": false,
    "memoryGiB": 32,
    "name": "ml.g5.2xlarge",
    "vcpuNum": 8
   },
   {
    "_defaultOrder": 49,
    "_isFastLaunch": false,
    "category": "Accelerated computing",
    "gpuNum": 1,
    "hideHardwareSpecs": false,
    "memoryGiB": 64,
    "name": "ml.g5.4xlarge",
    "vcpuNum": 16
   },
   {
    "_defaultOrder": 50,
    "_isFastLaunch": false,
    "category": "Accelerated computing",
    "gpuNum": 1,
    "hideHardwareSpecs": false,
    "memoryGiB": 128,
    "name": "ml.g5.8xlarge",
    "vcpuNum": 32
   },
   {
    "_defaultOrder": 51,
    "_isFastLaunch": false,
    "category": "Accelerated computing",
    "gpuNum": 1,
    "hideHardwareSpecs": false,
    "memoryGiB": 256,
    "name": "ml.g5.16xlarge",
    "vcpuNum": 64
   },
   {
    "_defaultOrder": 52,
    "_isFastLaunch": false,
    "category": "Accelerated computing",
    "gpuNum": 4,
    "hideHardwareSpecs": false,
    "memoryGiB": 192,
    "name": "ml.g5.12xlarge",
    "vcpuNum": 48
   },
   {
    "_defaultOrder": 53,
    "_isFastLaunch": false,
    "category": "Accelerated computing",
    "gpuNum": 4,
    "hideHardwareSpecs": false,
    "memoryGiB": 384,
    "name": "ml.g5.24xlarge",
    "vcpuNum": 96
   },
   {
    "_defaultOrder": 54,
    "_isFastLaunch": false,
    "category": "Accelerated computing",
    "gpuNum": 8,
    "hideHardwareSpecs": false,
    "memoryGiB": 768,
    "name": "ml.g5.48xlarge",
    "vcpuNum": 192
   },
   {
    "_defaultOrder": 55,
    "_isFastLaunch": false,
    "category": "Accelerated computing",
    "gpuNum": 8,
    "hideHardwareSpecs": false,
    "memoryGiB": 1152,
    "name": "ml.p4d.24xlarge",
    "vcpuNum": 96
   },
   {
    "_defaultOrder": 56,
    "_isFastLaunch": false,
    "category": "Accelerated computing",
    "gpuNum": 8,
    "hideHardwareSpecs": false,
    "memoryGiB": 1152,
    "name": "ml.p4de.24xlarge",
    "vcpuNum": 96
   },
   {
    "_defaultOrder": 57,
    "_isFastLaunch": false,
    "category": "Accelerated computing",
    "gpuNum": 0,
    "hideHardwareSpecs": false,
    "memoryGiB": 32,
    "name": "ml.trn1.2xlarge",
    "vcpuNum": 8
   },
   {
    "_defaultOrder": 58,
    "_isFastLaunch": false,
    "category": "Accelerated computing",
    "gpuNum": 0,
    "hideHardwareSpecs": false,
    "memoryGiB": 512,
    "name": "ml.trn1.32xlarge",
    "vcpuNum": 128
   },
   {
    "_defaultOrder": 59,
    "_isFastLaunch": false,
    "category": "Accelerated computing",
    "gpuNum": 0,
    "hideHardwareSpecs": false,
    "memoryGiB": 512,
    "name": "ml.trn1n.32xlarge",
    "vcpuNum": 128
   }
  ],
  "instance_type": "ml.t3.medium",
  "kernelspec": {
   "display_name": "Python 3 (ipykernel)",
   "language": "python",
   "name": "python3"
  },
  "language_info": {
   "codemirror_mode": {
    "name": "ipython",
    "version": 3
   },
   "file_extension": ".py",
   "mimetype": "text/x-python",
   "name": "python",
   "nbconvert_exporter": "python",
   "pygments_lexer": "ipython3",
   "version": "3.12.9"
  },
  "lcc_arn": "arn:aws:sagemaker:us-east-1:641467148081:studio-lifecycle-config/lcc-kernel"
 },
 "nbformat": 4,
 "nbformat_minor": 5
}

{
 "cells": [
  {
   "cell_type": "markdown",
   "id": "0",
   "metadata": {
    "tags": []
   },
   "source": [
    "# タスク 1d: テキスト生成の実行 (マルチモーダル)\n"
   ]
  },
  {
   "cell_type": "markdown",
   "id": "48411169-c3b6-46fc-82c6-b93bc50e5792",
   "metadata": {},
   "source": [
    "### シナリオ"
   ]
  },
  {
   "cell_type": "markdown",
   "id": "2",
   "metadata": {},
   "source": [
    "## タスク 1c.1: 環境のセットアップ\n",
    "\n",
    "このタスクでは、環境をセットアップします。"
   ]
  },
  {
   "cell_type": "code",
   "execution_count": 11,
   "id": "3",
   "metadata": {
    "execution": {
     "iopub.execute_input": "2025-10-23T11:44:56.929209Z",
     "iopub.status.busy": "2025-10-23T11:44:56.928934Z",
     "iopub.status.idle": "2025-10-23T11:44:56.938986Z",
     "shell.execute_reply": "2025-10-23T11:44:56.938227Z",
     "shell.execute_reply.started": "2025-10-23T11:44:56.929188Z"
    },
    "tags": []
   },
   "outputs": [],
   "source": [
    "#Create a service client by name using the default session.\n",
    "import json\n",
    "import os\n",
    "import sys\n",
    "\n",
    "import boto3\n",
    "import botocore\n",
    "\n",
    "module_path = \"..\"\n",
    "sys.path.append(os.path.abspath(module_path))\n",
    "\n",
    "bedrock_client = boto3.client('bedrock-runtime',region_name=os.environ.get(\"AWS_DEFAULT_REGION\", None))"
   ]
  },
  {
   "cell_type": "markdown",
   "id": "4",
   "metadata": {},
   "source": [
    "## タスク 1c.2: テキストの生成\n",
    "\n",
    "このタスクでは、Amazon Bedrock サービスがメールを生成するための入力を準備します。"
   ]
  },
  {
   "cell_type": "code",
   "execution_count": 12,
   "id": "5",
   "metadata": {
    "execution": {
     "iopub.execute_input": "2025-10-23T11:44:58.117855Z",
     "iopub.status.busy": "2025-10-23T11:44:58.117590Z",
     "iopub.status.idle": "2025-10-23T11:44:58.120894Z",
     "shell.execute_reply": "2025-10-23T11:44:58.120132Z",
     "shell.execute_reply.started": "2025-10-23T11:44:58.117835Z"
    },
    "tags": []
   },
   "outputs": [],
   "source": [
    "# create the prompt\n",
    "prompt_data = \"\"\"\n",
    "添付した画像ファイルは AWS のアーキテクチャ図です。\n",
    "この構成を実現する CloudFormation テンプレートを作成してください\n",
    "\"\"\""
   ]
  },
  {
   "cell_type": "markdown",
   "id": "6",
   "metadata": {},
   "source": [
    "次に、Amazon Nova Lite を呼び出します。\n",
    "\n",
    "<i aria-hidden=\"true\" class=\"fas fa-sticky-note\" style=\"color:#563377\"></i> **注:** Amazon Nova Lite は、約 300kトークンのコンテキストウィンドウをサポートし、次のパラメータを受け入れます。:\n",
    "- `messages`: ロールとコンテンツを持つメッセージオブジェクトの配列\n",
    "- `inferenceConfig`: これらは、モデルが出力を生成する際に考慮するパラメータです。"
   ]
  },
  {
   "cell_type": "markdown",
   "id": "7",
   "metadata": {},
   "source": [
    "Amazon Bedrock API は、次のものを受け入れる API `invoke_model` を提供します:\n",
    "- `modelId`: これは、Amazon Bedrock で使用できるさまざまな基盤モデルのモデル ARN です\n",
    "- `accept`: 入力リクエストのタイプ\n",
    "- `contentType`: 出力のコンテンツ タイプ\n",
    "- `body`: プロンプトと構成で構成される JSON 文字列\n",
    "\n",
    "使用可能なテキスト生成モデル ID については、[ドキュメント](https://docs.aws.amazon.com/bedrock/latest/userguide/model-ids-arns.html) を参照してください。"
   ]
  },
  {
   "cell_type": "markdown",
   "id": "8",
   "metadata": {},
   "source": [
    "## タスク 1a.3: Amazon Nova Lite 言語モデルを呼び出す\n",
    "\n",
    "このタスクでは、以前に作成したプロンプトに基づいてモデルが出力を生成する方法を調べます。"
   ]
  },
  {
   "cell_type": "markdown",
   "id": "9",
   "metadata": {},
   "source": [
    "### 完全な出力生成\n",
    "\n",
    "このメールは、入力リクエストを理解し、さまざまなモダリティに対する固有の理解を活用して、Amazon Nova Lite モデルを使用して生成されます。この　API　は同期リクエストのため、モデルによって出力全体が生成されるまで待機します。"
   ]
  },
  {
   "cell_type": "code",
   "execution_count": 13,
   "id": "2748ee74-a8c9-4b35-bb5e-5d6440868546",
   "metadata": {
    "execution": {
     "iopub.execute_input": "2025-10-23T11:45:00.715489Z",
     "iopub.status.busy": "2025-10-23T11:45:00.715194Z",
     "iopub.status.idle": "2025-10-23T11:45:00.719088Z",
     "shell.execute_reply": "2025-10-23T11:45:00.718266Z",
     "shell.execute_reply.started": "2025-10-23T11:45:00.715468Z"
    }
   },
   "outputs": [],
   "source": [
    "with open('Amazon-Bedrock.png', 'rb') as f:\n",
    "    png_bytes = f.read()"
   ]
  },
  {
   "cell_type": "code",
   "execution_count": 14,
   "id": "10",
   "metadata": {
    "execution": {
     "iopub.execute_input": "2025-10-23T11:45:00.934390Z",
     "iopub.status.busy": "2025-10-23T11:45:00.934108Z",
     "iopub.status.idle": "2025-10-23T11:45:07.184183Z",
     "shell.execute_reply": "2025-10-23T11:45:07.183372Z",
     "shell.execute_reply.started": "2025-10-23T11:45:00.934369Z"
    },
    "tags": []
   },
   "outputs": [],
   "source": [
    "#invoke model\n",
    "modelId = 'amazon.nova-lite-v1:0' # change this to use a different version from the model provider\n",
    "outputText = \"\\n\"\n",
    "try:\n",
    "\n",
    "    response = bedrock_client.converse(\n",
    "        messages=[\n",
    "            {\n",
    "                \"role\": \"user\",\n",
    "                \"content\": [\n",
    "                    {\n",
    "                        \"text\": prompt_data\n",
    "                    }, {\n",
    "                        # \"text\": prompt_data,\n",
    "                        \"image\": {\n",
    "                            \"format\": \"png\",\n",
    "                            \"source\": {\n",
    "                                \"bytes\": png_bytes\n",
    "                                # 's3Location': {\n",
    "                                #     'uri': 'string',\n",
    "                                #     'bucketOwner': 'string'\n",
    "                                # }\n",
    "                            }\n",
    "                        }\n",
    "                    }\n",
    "                ]\n",
    "            }\n",
    "        ],\n",
    "        modelId=modelId,\n",
    "        inferenceConfig = {\n",
    "            \"maxTokens\": 8192,\n",
    "            \"stopSequences\": [],\n",
    "            \"temperature\": 0,\n",
    "            \"topP\": 0.9\n",
    "        }\n",
    "    )\n",
    "    outputText = response.get('output').get('message').get('content')[0].get('text')\n",
    "\n",
    "except botocore.exceptions.ClientError as error:\n",
    "    \n",
    "    if error.response['Error']['Code'] == 'AccessDeniedException':\n",
    "           print(f\"\\x1b[41m{error.response['Error']['Message']}\\\n",
    "                \\nTo troubeshoot this issue please refer to the following resources.\\\n",
    "                 \\nhttps://docs.aws.amazon.com/IAM/latest/UserGuide/troubleshoot_access-denied.html\\\n",
    "                 \\nhttps://docs.aws.amazon.com/bedrock/latest/userguide/security-iam.html\\x1b[0m\\n\")\n",
    "        \n",
    "    else:\n",
    "        raise error\n"
   ]
  },
  {
   "cell_type": "code",
   "execution_count": 15,
   "id": "11",
   "metadata": {
    "execution": {
     "iopub.execute_input": "2025-10-23T11:45:07.185328Z",
     "iopub.status.busy": "2025-10-23T11:45:07.185112Z",
     "iopub.status.idle": "2025-10-23T11:45:07.188755Z",
     "shell.execute_reply": "2025-10-23T11:45:07.188079Z",
     "shell.execute_reply.started": "2025-10-23T11:45:07.185310Z"
    },
    "tags": []
   },
   "outputs": [
    {
     "name": "stdout",
     "output_type": "stream",
     "text": [
      "Below is a basic AWS CloudFormation template based on the architecture diagram you provided. This template assumes you have a basic understanding of AWS resources and CloudFormation syntax.\n",
      "\n",
      "```yaml\n",
      "AWSTemplateFormatVersion: '2010-09-09'\n",
      "Description: Infrastructure as Code for the provided architecture\n",
      "\n",
      "Resources:\n",
      "  # VPC\n",
      "  MyVPC:\n",
      "    Type: 'AWS::EC2::VPC'\n",
      "    Properties:\n",
      "      CidrBlock: '10.0.0.0/16'\n",
      "\n",
      "  # Subnets\n",
      "  PublicSubnet1:\n",
      "    Type: 'AWS::EC2::Subnet'\n",
      "    Properties:\n",
      "      VpcId: !Ref MyVPC\n",
      "      CidrBlock: '10.0.1.0/24'\n",
      "      MapPublicIpOnLaunch: true\n",
      "\n",
      "  # Security Group for Amazon EC2 Fargate\n",
      "  FargateSecurityGroup:\n",
      "    Type: 'AWS::EC2::SecurityGroup'\n",
      "    Properties:\n",
      "      GroupDescription: 'Allow access to Fargate'\n",
      "      VpcId: !Ref MyVPC\n",
      "      SecurityGroupIngress:\n",
      "        - IpProtocol: 'tcp'\n",
      "          FromPort: '80'\n",
      "          ToPort: '80'\n",
      "          CidrIp: '0.0.0.0/0'\n",
      "\n",
      "  # Fargate Cluster\n",
      "  FargateCluster:\n",
      "    Type: 'AWS::ECS::Cluster'\n",
      "\n",
      "  # Fargate Task Definition\n",
      "  FargateTaskDefinition:\n",
      "    Type: 'AWS::ECS::TaskDefinition'\n",
      "    Properties:\n",
      "      Family: 'FargateTask'\n",
      "      NetworkMode: 'awsvpc'\n",
      "      RequiresCompatibilities:\n",
      "        - 'FARGATE'\n",
      "      Cpu: '256'\n",
      "      Memory: '512'\n",
      "      ExecutionRoleArn: !GetAtt FargateExecutionRole.Arn\n",
      "      TaskRoleArn: !GetAtt FargateTaskRole.Arn\n",
      "      ContainerDefinitions:\n",
      "        - Name: 'FargateContainer'\n",
      "          Image: 'nginx'\n",
      "          Cpu: '256'\n",
      "          Memory: '512'\n",
      "          Essential: true\n",
      "          PortMappings:\n",
      "            - ContainerPort: '80'\n",
      "              HostPort: '80'\n",
      "\n",
      "  # Fargate Service\n",
      "  FargateService:\n",
      "    Type: 'AWS::ECS::Service'\n",
      "    Properties:\n",
      "      Cluster: !Ref FargateCluster\n",
      "      DesiredCount: 1\n",
      "      TaskDefinition: !Ref FargateTaskDefinition\n",
      "      LaunchType: 'FARGATE'\n",
      "      NetworkConfiguration:\n",
      "        AwsvpcConfiguration:\n",
      "          AssignPublicIp: 'ENABLED'\n",
      "          Subnets:\n",
      "            - !Ref PublicSubnet1\n",
      "          SecurityGroups:\n",
      "            - !Ref FargateSecurityGroup\n",
      "\n",
      "  # DynamoDB Table\n",
      "  DynamoDBTable:\n",
      "    Type: 'AWS::DynamoDB::Table'\n",
      "    Properties:\n",
      "      TableName: 'MyTable'\n",
      "      AttributeDefinitions:\n",
      "        - AttributeName: 'PrimaryKey'\n",
      "          AttributeType: 'S'\n",
      "      KeySchema:\n",
      "        - AttributeName: 'PrimaryKey'\n",
      "          KeyType: 'HASH'\n",
      "      ProvisionedThroughput:\n",
      "        ReadCapacityUnits: 5\n",
      "        WriteCapacityUnits: 5\n",
      "\n",
      "  # Other resources can be added here based on the architecture\n",
      "\n",
      "Outputs:\n",
      "  VPCId:\n",
      "    Description: 'VPC ID'\n",
      "    Value: !Ref MyVPC\n",
      "  FargateClusterName:\n",
      "    Description: 'Fargate Cluster Name'\n",
      "    Value: !Ref FargateCluster\n",
      "  DynamoDBTableName:\n",
      "    Description: 'DynamoDB Table Name'\n",
      "    Value: !Ref DynamoDBTable\n",
      "```\n",
      "\n",
      "\n",
      "This is a very basic template and does not cover all the services and their configurations as depicted in the architecture diagram. You would need to add more AWS resources and properties based on the exact requirements and settings for each component, such as the specific configurations for Amazon Bedrock, Lambda functions, Amazon OpenSearch Service, etc. Also, note that certain services like AWS Lambda, Amazon Bedrock, and Amazon S3 are not directly represented in this template, as they require more specific configurations that are not depicted in the architecture diagram. You would need to add those services and their respective configurations as per your requirements.\n"
     ]
    }
   ],
   "source": [
    "# Print the complete response from Nova Lite\n",
    "print(outputText)\n"
   ]
  },
  {
   "cell_type": "markdown",
   "id": "16",
   "metadata": {},
   "source": [
    "\n",
    "これで、Amazon Bedrock API を使用するためのの基本的な boto3 SDK を試しました。この API を使用して、顧客の否定的なフィードバックに応答するメールを生成するユースケースを確認しました。\n",
    "\n",
    "### 試してみましょう\n",
    "- 特定のユースケースに合わせてプロンプトを変更し、さまざまなモデルの出力を評価します。\n",
    "- トークンの長さを変えることで、サービスのレイテンシと応答性がどのように変化するかを理解します。\n",
    "- さまざまなプロンプトエンジニアリングの原則を適用して、より良い出力を取得します。\n",
    "\n",
    "### クリーンアップ\n",
    "\n",
    "あなたはこのノートブックを完了しました。ラボの次のパートに移るには、下記を実行してください。:\n",
    "\n",
    "- このノートブックファイルを閉じ、 **Task1b_ja_jp.ipynb** を開きます。"
   ]
  },
  {
   "cell_type": "code",
   "execution_count": null,
   "id": "94d49940-5942-49dd-825e-b47521b3e602",
   "metadata": {},
   "outputs": [],
   "source": []
  }
 ],
 "metadata": {
  "availableInstances": [
   {
    "_defaultOrder": 0,
    "_isFastLaunch": true,
    "category": "General purpose",
    "gpuNum": 0,
    "hideHardwareSpecs": false,
    "memoryGiB": 4,
    "name": "ml.t3.medium",
    "vcpuNum": 2
   },
   {
    "_defaultOrder": 1,
    "_isFastLaunch": false,
    "category": "General purpose",
    "gpuNum": 0,
    "hideHardwareSpecs": false,
    "memoryGiB": 8,
    "name": "ml.t3.large",
    "vcpuNum": 2
   },
   {
    "_defaultOrder": 2,
    "_isFastLaunch": false,
    "category": "General purpose",
    "gpuNum": 0,
    "hideHardwareSpecs": false,
    "memoryGiB": 16,
    "name": "ml.t3.xlarge",
    "vcpuNum": 4
   },
   {
    "_defaultOrder": 3,
    "_isFastLaunch": false,
    "category": "General purpose",
    "gpuNum": 0,
    "hideHardwareSpecs": false,
    "memoryGiB": 32,
    "name": "ml.t3.2xlarge",
    "vcpuNum": 8
   },
   {
    "_defaultOrder": 4,
    "_isFastLaunch": true,
    "category": "General purpose",
    "gpuNum": 0,
    "hideHardwareSpecs": false,
    "memoryGiB": 8,
    "name": "ml.m5.large",
    "vcpuNum": 2
   },
   {
    "_defaultOrder": 5,
    "_isFastLaunch": false,
    "category": "General purpose",
    "gpuNum": 0,
    "hideHardwareSpecs": false,
    "memoryGiB": 16,
    "name": "ml.m5.xlarge",
    "vcpuNum": 4
   },
   {
    "_defaultOrder": 6,
    "_isFastLaunch": false,
    "category": "General purpose",
    "gpuNum": 0,
    "hideHardwareSpecs": false,
    "memoryGiB": 32,
    "name": "ml.m5.2xlarge",
    "vcpuNum": 8
   },
   {
    "_defaultOrder": 7,
    "_isFastLaunch": false,
    "category": "General purpose",
    "gpuNum": 0,
    "hideHardwareSpecs": false,
    "memoryGiB": 64,
    "name": "ml.m5.4xlarge",
    "vcpuNum": 16
   },
   {
    "_defaultOrder": 8,
    "_isFastLaunch": false,
    "category": "General purpose",
    "gpuNum": 0,
    "hideHardwareSpecs": false,
    "memoryGiB": 128,
    "name": "ml.m5.8xlarge",
    "vcpuNum": 32
   },
   {
    "_defaultOrder": 9,
    "_isFastLaunch": false,
    "category": "General purpose",
    "gpuNum": 0,
    "hideHardwareSpecs": false,
    "memoryGiB": 192,
    "name": "ml.m5.12xlarge",
    "vcpuNum": 48
   },
   {
    "_defaultOrder": 10,
    "_isFastLaunch": false,
    "category": "General purpose",
    "gpuNum": 0,
    "hideHardwareSpecs": false,
    "memoryGiB": 256,
    "name": "ml.m5.16xlarge",
    "vcpuNum": 64
   },
   {
    "_defaultOrder": 11,
    "_isFastLaunch": false,
    "category": "General purpose",
    "gpuNum": 0,
    "hideHardwareSpecs": false,
    "memoryGiB": 384,
    "name": "ml.m5.24xlarge",
    "vcpuNum": 96
   },
   {
    "_defaultOrder": 12,
    "_isFastLaunch": false,
    "category": "General purpose",
    "gpuNum": 0,
    "hideHardwareSpecs": false,
    "memoryGiB": 8,
    "name": "ml.m5d.large",
    "vcpuNum": 2
   },
   {
    "_defaultOrder": 13,
    "_isFastLaunch": false,
    "category": "General purpose",
    "gpuNum": 0,
    "hideHardwareSpecs": false,
    "memoryGiB": 16,
    "name": "ml.m5d.xlarge",
    "vcpuNum": 4
   },
   {
    "_defaultOrder": 14,
    "_isFastLaunch": false,
    "category": "General purpose",
    "gpuNum": 0,
    "hideHardwareSpecs": false,
    "memoryGiB": 32,
    "name": "ml.m5d.2xlarge",
    "vcpuNum": 8
   },
   {
    "_defaultOrder": 15,
    "_isFastLaunch": false,
    "category": "General purpose",
    "gpuNum": 0,
    "hideHardwareSpecs": false,
    "memoryGiB": 64,
    "name": "ml.m5d.4xlarge",
    "vcpuNum": 16
   },
   {
    "_defaultOrder": 16,
    "_isFastLaunch": false,
    "category": "General purpose",
    "gpuNum": 0,
    "hideHardwareSpecs": false,
    "memoryGiB": 128,
    "name": "ml.m5d.8xlarge",
    "vcpuNum": 32
   },
   {
    "_defaultOrder": 17,
    "_isFastLaunch": false,
    "category": "General purpose",
    "gpuNum": 0,
    "hideHardwareSpecs": false,
    "memoryGiB": 192,
    "name": "ml.m5d.12xlarge",
    "vcpuNum": 48
   },
   {
    "_defaultOrder": 18,
    "_isFastLaunch": false,
    "category": "General purpose",
    "gpuNum": 0,
    "hideHardwareSpecs": false,
    "memoryGiB": 256,
    "name": "ml.m5d.16xlarge",
    "vcpuNum": 64
   },
   {
    "_defaultOrder": 19,
    "_isFastLaunch": false,
    "category": "General purpose",
    "gpuNum": 0,
    "hideHardwareSpecs": false,
    "memoryGiB": 384,
    "name": "ml.m5d.24xlarge",
    "vcpuNum": 96
   },
   {
    "_defaultOrder": 20,
    "_isFastLaunch": false,
    "category": "General purpose",
    "gpuNum": 0,
    "hideHardwareSpecs": true,
    "memoryGiB": 0,
    "name": "ml.geospatial.interactive",
    "supportedImageNames": [
     "sagemaker-geospatial-v1-0"
    ],
    "vcpuNum": 0
   },
   {
    "_defaultOrder": 21,
    "_isFastLaunch": true,
    "category": "Compute optimized",
    "gpuNum": 0,
    "hideHardwareSpecs": false,
    "memoryGiB": 4,
    "name": "ml.c5.large",
    "vcpuNum": 2
   },
   {
    "_defaultOrder": 22,
    "_isFastLaunch": false,
    "category": "Compute optimized",
    "gpuNum": 0,
    "hideHardwareSpecs": false,
    "memoryGiB": 8,
    "name": "ml.c5.xlarge",
    "vcpuNum": 4
   },
   {
    "_defaultOrder": 23,
    "_isFastLaunch": false,
    "category": "Compute optimized",
    "gpuNum": 0,
    "hideHardwareSpecs": false,
    "memoryGiB": 16,
    "name": "ml.c5.2xlarge",
    "vcpuNum": 8
   },
   {
    "_defaultOrder": 24,
    "_isFastLaunch": false,
    "category": "Compute optimized",
    "gpuNum": 0,
    "hideHardwareSpecs": false,
    "memoryGiB": 32,
    "name": "ml.c5.4xlarge",
    "vcpuNum": 16
   },
   {
    "_defaultOrder": 25,
    "_isFastLaunch": false,
    "category": "Compute optimized",
    "gpuNum": 0,
    "hideHardwareSpecs": false,
    "memoryGiB": 72,
    "name": "ml.c5.9xlarge",
    "vcpuNum": 36
   },
   {
    "_defaultOrder": 26,
    "_isFastLaunch": false,
    "category": "Compute optimized",
    "gpuNum": 0,
    "hideHardwareSpecs": false,
    "memoryGiB": 96,
    "name": "ml.c5.12xlarge",
    "vcpuNum": 48
   },
   {
    "_defaultOrder": 27,
    "_isFastLaunch": false,
    "category": "Compute optimized",
    "gpuNum": 0,
    "hideHardwareSpecs": false,
    "memoryGiB": 144,
    "name": "ml.c5.18xlarge",
    "vcpuNum": 72
   },
   {
    "_defaultOrder": 28,
    "_isFastLaunch": false,
    "category": "Compute optimized",
    "gpuNum": 0,
    "hideHardwareSpecs": false,
    "memoryGiB": 192,
    "name": "ml.c5.24xlarge",
    "vcpuNum": 96
   },
   {
    "_defaultOrder": 29,
    "_isFastLaunch": true,
    "category": "Accelerated computing",
    "gpuNum": 1,
    "hideHardwareSpecs": false,
    "memoryGiB": 16,
    "name": "ml.g4dn.xlarge",
    "vcpuNum": 4
   },
   {
    "_defaultOrder": 30,
    "_isFastLaunch": false,
    "category": "Accelerated computing",
    "gpuNum": 1,
    "hideHardwareSpecs": false,
    "memoryGiB": 32,
    "name": "ml.g4dn.2xlarge",
    "vcpuNum": 8
   },
   {
    "_defaultOrder": 31,
    "_isFastLaunch": false,
    "category": "Accelerated computing",
    "gpuNum": 1,
    "hideHardwareSpecs": false,
    "memoryGiB": 64,
    "name": "ml.g4dn.4xlarge",
    "vcpuNum": 16
   },
   {
    "_defaultOrder": 32,
    "_isFastLaunch": false,
    "category": "Accelerated computing",
    "gpuNum": 1,
    "hideHardwareSpecs": false,
    "memoryGiB": 128,
    "name": "ml.g4dn.8xlarge",
    "vcpuNum": 32
   },
   {
    "_defaultOrder": 33,
    "_isFastLaunch": false,
    "category": "Accelerated computing",
    "gpuNum": 4,
    "hideHardwareSpecs": false,
    "memoryGiB": 192,
    "name": "ml.g4dn.12xlarge",
    "vcpuNum": 48
   },
   {
    "_defaultOrder": 34,
    "_isFastLaunch": false,
    "category": "Accelerated computing",
    "gpuNum": 1,
    "hideHardwareSpecs": false,
    "memoryGiB": 256,
    "name": "ml.g4dn.16xlarge",
    "vcpuNum": 64
   },
   {
    "_defaultOrder": 35,
    "_isFastLaunch": false,
    "category": "Accelerated computing",
    "gpuNum": 1,
    "hideHardwareSpecs": false,
    "memoryGiB": 61,
    "name": "ml.p3.2xlarge",
    "vcpuNum": 8
   },
   {
    "_defaultOrder": 36,
    "_isFastLaunch": false,
    "category": "Accelerated computing",
    "gpuNum": 4,
    "hideHardwareSpecs": false,
    "memoryGiB": 244,
    "name": "ml.p3.8xlarge",
    "vcpuNum": 32
   },
   {
    "_defaultOrder": 37,
    "_isFastLaunch": false,
    "category": "Accelerated computing",
    "gpuNum": 8,
    "hideHardwareSpecs": false,
    "memoryGiB": 488,
    "name": "ml.p3.16xlarge",
    "vcpuNum": 64
   },
   {
    "_defaultOrder": 38,
    "_isFastLaunch": false,
    "category": "Accelerated computing",
    "gpuNum": 8,
    "hideHardwareSpecs": false,
    "memoryGiB": 768,
    "name": "ml.p3dn.24xlarge",
    "vcpuNum": 96
   },
   {
    "_defaultOrder": 39,
    "_isFastLaunch": false,
    "category": "Memory Optimized",
    "gpuNum": 0,
    "hideHardwareSpecs": false,
    "memoryGiB": 16,
    "name": "ml.r5.large",
    "vcpuNum": 2
   },
   {
    "_defaultOrder": 40,
    "_isFastLaunch": false,
    "category": "Memory Optimized",
    "gpuNum": 0,
    "hideHardwareSpecs": false,
    "memoryGiB": 32,
    "name": "ml.r5.xlarge",
    "vcpuNum": 4
   },
   {
    "_defaultOrder": 41,
    "_isFastLaunch": false,
    "category": "Memory Optimized",
    "gpuNum": 0,
    "hideHardwareSpecs": false,
    "memoryGiB": 64,
    "name": "ml.r5.2xlarge",
    "vcpuNum": 8
   },
   {
    "_defaultOrder": 42,
    "_isFastLaunch": false,
    "category": "Memory Optimized",
    "gpuNum": 0,
    "hideHardwareSpecs": false,
    "memoryGiB": 128,
    "name": "ml.r5.4xlarge",
    "vcpuNum": 16
   },
   {
    "_defaultOrder": 43,
    "_isFastLaunch": false,
    "category": "Memory Optimized",
    "gpuNum": 0,
    "hideHardwareSpecs": false,
    "memoryGiB": 256,
    "name": "ml.r5.8xlarge",
    "vcpuNum": 32
   },
   {
    "_defaultOrder": 44,
    "_isFastLaunch": false,
    "category": "Memory Optimized",
    "gpuNum": 0,
    "hideHardwareSpecs": false,
    "memoryGiB": 384,
    "name": "ml.r5.12xlarge",
    "vcpuNum": 48
   },
   {
    "_defaultOrder": 45,
    "_isFastLaunch": false,
    "category": "Memory Optimized",
    "gpuNum": 0,
    "hideHardwareSpecs": false,
    "memoryGiB": 512,
    "name": "ml.r5.16xlarge",
    "vcpuNum": 64
   },
   {
    "_defaultOrder": 46,
    "_isFastLaunch": false,
    "category": "Memory Optimized",
    "gpuNum": 0,
    "hideHardwareSpecs": false,
    "memoryGiB": 768,
    "name": "ml.r5.24xlarge",
    "vcpuNum": 96
   },
   {
    "_defaultOrder": 47,
    "_isFastLaunch": false,
    "category": "Accelerated computing",
    "gpuNum": 1,
    "hideHardwareSpecs": false,
    "memoryGiB": 16,
    "name": "ml.g5.xlarge",
    "vcpuNum": 4
   },
   {
    "_defaultOrder": 48,
    "_isFastLaunch": false,
    "category": "Accelerated computing",
    "gpuNum": 1,
    "hideHardwareSpecs": false,
    "memoryGiB": 32,
    "name": "ml.g5.2xlarge",
    "vcpuNum": 8
   },
   {
    "_defaultOrder": 49,
    "_isFastLaunch": false,
    "category": "Accelerated computing",
    "gpuNum": 1,
    "hideHardwareSpecs": false,
    "memoryGiB": 64,
    "name": "ml.g5.4xlarge",
    "vcpuNum": 16
   },
   {
    "_defaultOrder": 50,
    "_isFastLaunch": false,
    "category": "Accelerated computing",
    "gpuNum": 1,
    "hideHardwareSpecs": false,
    "memoryGiB": 128,
    "name": "ml.g5.8xlarge",
    "vcpuNum": 32
   },
   {
    "_defaultOrder": 51,
    "_isFastLaunch": false,
    "category": "Accelerated computing",
    "gpuNum": 1,
    "hideHardwareSpecs": false,
    "memoryGiB": 256,
    "name": "ml.g5.16xlarge",
    "vcpuNum": 64
   },
   {
    "_defaultOrder": 52,
    "_isFastLaunch": false,
    "category": "Accelerated computing",
    "gpuNum": 4,
    "hideHardwareSpecs": false,
    "memoryGiB": 192,
    "name": "ml.g5.12xlarge",
    "vcpuNum": 48
   },
   {
    "_defaultOrder": 53,
    "_isFastLaunch": false,
    "category": "Accelerated computing",
    "gpuNum": 4,
    "hideHardwareSpecs": false,
    "memoryGiB": 384,
    "name": "ml.g5.24xlarge",
    "vcpuNum": 96
   },
   {
    "_defaultOrder": 54,
    "_isFastLaunch": false,
    "category": "Accelerated computing",
    "gpuNum": 8,
    "hideHardwareSpecs": false,
    "memoryGiB": 768,
    "name": "ml.g5.48xlarge",
    "vcpuNum": 192
   },
   {
    "_defaultOrder": 55,
    "_isFastLaunch": false,
    "category": "Accelerated computing",
    "gpuNum": 8,
    "hideHardwareSpecs": false,
    "memoryGiB": 1152,
    "name": "ml.p4d.24xlarge",
    "vcpuNum": 96
   },
   {
    "_defaultOrder": 56,
    "_isFastLaunch": false,
    "category": "Accelerated computing",
    "gpuNum": 8,
    "hideHardwareSpecs": false,
    "memoryGiB": 1152,
    "name": "ml.p4de.24xlarge",
    "vcpuNum": 96
   },
   {
    "_defaultOrder": 57,
    "_isFastLaunch": false,
    "category": "Accelerated computing",
    "gpuNum": 0,
    "hideHardwareSpecs": false,
    "memoryGiB": 32,
    "name": "ml.trn1.2xlarge",
    "vcpuNum": 8
   },
   {
    "_defaultOrder": 58,
    "_isFastLaunch": false,
    "category": "Accelerated computing",
    "gpuNum": 0,
    "hideHardwareSpecs": false,
    "memoryGiB": 512,
    "name": "ml.trn1.32xlarge",
    "vcpuNum": 128
   },
   {
    "_defaultOrder": 59,
    "_isFastLaunch": false,
    "category": "Accelerated computing",
    "gpuNum": 0,
    "hideHardwareSpecs": false,
    "memoryGiB": 512,
    "name": "ml.trn1n.32xlarge",
    "vcpuNum": 128
   }
  ],
  "instance_type": "ml.t3.medium",
  "kernelspec": {
   "display_name": "Python 3 (ipykernel)",
   "language": "python",
   "name": "python3"
  },
  "language_info": {
   "codemirror_mode": {
    "name": "ipython",
    "version": 3
   },
   "file_extension": ".py",
   "mimetype": "text/x-python",
   "name": "python",
   "nbconvert_exporter": "python",
   "pygments_lexer": "ipython3",
   "version": "3.12.9"
  },
  "lcc_arn": "arn:aws:sagemaker:us-east-1:641467148081:studio-lifecycle-config/lcc-kernel"
 },
 "nbformat": 4,
 "nbformat_minor": 5
}

{
 "cells": [
  {
   "cell_type": "markdown",
   "id": "0",
   "metadata": {},
   "source": [
    "# Strands Agents クイックスタート\n",
    "\n",
    "Strands Agents は、AWS サービスと連携して複雑なタスクを実行できる AI エージェントを構築するための強力なフレームワークです。このクイックスタートガイドは、初めての Strands エージェントの作成に役立ちます。\n",
    "\n",
    "## 前提条件\n",
    "\n",
    "- Python 3.10 以降\n",
    "- 適切な権限が設定された AWS アカウント\n",
    "- Python プログラミングの基礎知識\n",
    "\n",
    "さあ、始めましょう！"
   ]
  },
  {
   "cell_type": "code",
   "execution_count": null,
   "id": "1",
   "metadata": {},
   "outputs": [],
   "source": [
    "# pipを使ってStrandsをインストールする\n",
    "\n",
    "!pip install strands-agents strands-agents-tools"
   ]
  },
  {
   "cell_type": "markdown",
   "id": "2",
   "metadata": {
    "vscode": {
     "languageId": "plaintext"
    }
   },
   "source": [
    "\n",
    "## 最初のエージェントの作成\n",
    "\n",
    "必要なエージェントコンポーネントの概要を確認しましょう。\n",
    "\n",
    "### 1. シンプルなエージェントの作成:\n",
    "\n",
    "これにより、デフォルトのモデルプロバイダー [Amazon Bedrock](https://aws.amazon.com/bedrock/) とデフォルトのモデル Claude 3.7 Sonnet を使用して、AWS セットアップのリージョンにエージェントが作成されます。エージェントは呼び出されるのと同じローカル環境で実行されますが、Amazon Bedrock モデルは AWS アカウントで実行され、エージェントはクラウドアカウント内のモデルを呼び出します。アーキテクチャは次のようになります。\n",
    "\n",
    "<div style=\"text-align:center\">\n",
    "    <img src=\"images/simple_agent.png\" width=\"75%\" />\n",
    "</div>"
   ]
  },
  {
   "cell_type": "code",
   "execution_count": null,
   "id": "3",
   "metadata": {},
   "outputs": [],
   "source": [
    "from strands import Agent\n",
    "\n",
    "# エージェントを初期化\n",
    "agent = Agent(\n",
    "    model = \"amazon.nova-lite-v1:0\",    # model パラメータを省略すると Claude 3.7 Sonnet が使用される\n",
    "    system_prompt=\"あなたは簡潔な回答を提供する親切なアシスタントです。\"\n",
    ")\n",
    "\n",
    "# エージェントにメッセージを送信\n",
    "response = agent(\"こんにちは！何ができますか？\")\n",
    "print(response)"
   ]
  },
  {
   "cell_type": "markdown",
   "id": "4",
   "metadata": {},
   "source": [
    "### 2. エージェントにツールを追加する:\n",
    "\n",
    "[strands-agents-tools](https://github.com/strands-agents/tools) リポジトリには、インポート可能な組み込みツールがいくつか用意されています。また、`@tool` デコレータを使用してカスタムツールを作成することもできます。組み込みツールとカスタムツールの両方を備えたエージェントを作成できます。例えば、電卓の組み込みツールと天気予報を取得するカスタムツールを追加すると、次のアーキテクチャになります。\n",
    "<div style=\"text-align:center\">\n",
    "<img src=\"images/agent_with_tools.png\" width=\"75%\" />\n",
    "</div>\n",
    "\n",
    "このアーキテクチャを実装すると、次のようになります。"
   ]
  },
  {
   "cell_type": "code",
   "execution_count": null,
   "id": "5",
   "metadata": {},
   "outputs": [],
   "source": [
    "from strands import Agent, tool\n",
    "from strands_tools import calculator # 計算ツールをインポートする\n",
    "\n",
    "# カスタムツールを作成する\n",
    "@tool\n",
    "def weather():\n",
    "    \"\"\" 天気を取得 \"\"\" # ダミー実装\n",
    "    return \"晴れ\"\n",
    "\n",
    "agent = Agent(\n",
    "    model = \"amazon.nova-lite-v1:0\", \n",
    "    tools=[calculator, weather],    # ツールを指定\n",
    "    system_prompt=\"あなたは親切なアシスタントです。簡単な数学計算ができ、天気を教えることができます。\"\n",
    ")\n",
    "\n",
    "response = agent(\"今日の天気はどうですか？\")\n",
    "\n",
    "print(response)"
   ]
  },
  {
   "cell_type": "markdown",
   "id": "6",
   "metadata": {},
   "source": [
    "### ツールの直接呼び出し\n",
    "\n",
    "アプリケーションによっては、ツールを直接呼び出すことが重要です。例えば、ツールをデバッグしたり、エージェントのナレッジに顧客情報を事前に入力したり、別のツール内でツールを使用したりする場合などです。Strandsでは、エージェントの「tool」メソッドにツール名を続けて使用することで、これを実行できます。"
   ]
  },
  {
   "cell_type": "code",
   "execution_count": null,
   "id": "7",
   "metadata": {},
   "outputs": [],
   "source": [
    "# 微分を計算\n",
    "agent.tool.calculator(expression=\"sin(x)\", mode=\"derive\", wrt=\"x\", order=2)"
   ]
  },
  {
   "cell_type": "markdown",
   "id": "8",
   "metadata": {},
   "source": [
    "\n",
    "### 3. ログレベルと形式の変更:\n",
    "\n",
    "Strands SDK は、Python の標準 `logging` モジュールを使用して、その操作を可視化します。\n",
    "\n",
    "Strands Agents SDK は、シンプルなログ記録アプローチを実装しています。\n",
    "\n",
    "1. **モジュールレベルのロガー**: SDK 内の各モジュールは、階層的なログ記録に関する Python のベストプラクティスに従い、logging.getLogger(__name__) を使用して独自のロガーを作成します。\n",
    "2. **ルートロガー**: SDK 内のすべてのロガーは「strands」ルートロガーの子であるため、SDK 全体のログ記録を簡単に設定できます。\n",
    "3. **デフォルトの動作**: デフォルトでは、SDK はハンドラーやログレベルを設定しません。そのため、アプリケーションのログ記録設定と統合できます。\n",
    "\n",
    "Strands Agents SDK のログ記録を有効にするには、「strands」** ロガーを設定します。たとえばデバッグ中にログ レベルを変更したり、ログ形式を変更したりする場合は、次のようにロガー構成を設定できます。"
   ]
  },
  {
   "cell_type": "code",
   "execution_count": null,
   "id": "9",
   "metadata": {},
   "outputs": [],
   "source": [
    "import logging\n",
    "from strands import Agent\n",
    "\n",
    "# Strandsデバッグログレベルを有効化\n",
    "logging.getLogger(\"strands\").setLevel(logging.DEBUG) # またはlogging.ERROR\n",
    "\n",
    "# ログ形式を設定し、ログをstderrにストリーム\n",
    "logging.basicConfig(\n",
    "    format=\"%(levelname)s | %(name)s | %(message)s\",\n",
    "    handlers=[logging.StreamHandler()]\n",
    ")\n",
    "\n",
    "agent = Agent(model = \"amazon.nova-lite-v1:0\")\n",
    "agent(\"こんにちは！\")"
   ]
  },
  {
   "cell_type": "markdown",
   "id": "10",
   "metadata": {},
   "source": [
    "\n",
    "### 4. モデルプロバイダー\n",
    "\n",
    "デフォルトのモデルプロバイダーは [Amazon Bedrock](https://aws.amazon.com/bedrock/) で、現在の AWS 環境のリージョンにおけるデフォルトのモデルは Claude 3.7 Sonnet です。\n",
    "\n",
    "Amazon Bedrock では、モデル ID 文字列を直接指定することで、別のモデルを指定することもできます。"
   ]
  },
  {
   "cell_type": "code",
   "execution_count": null,
   "id": "11",
   "metadata": {},
   "outputs": [],
   "source": [
    "from strands import Agent\n",
    "\n",
    "agent = Agent(model = \"amazon.nova-lite-v1:0\")\n",
    "print(agent.model.config)"
   ]
  },
  {
   "cell_type": "markdown",
   "id": "12",
   "metadata": {},
   "source": [
    "\n",
    "モデル構成をさらに制御するには、`BedrockModel` プロバイダー インスタンスを作成します。"
   ]
  },
  {
   "cell_type": "code",
   "execution_count": null,
   "id": "13",
   "metadata": {},
   "outputs": [],
   "source": [
    "import boto3\n",
    "from strands import Agent\n",
    "from strands.models import BedrockModel\n",
    "\n",
    "# Create a BedrockModel\n",
    "bedrock_model = BedrockModel(\n",
    "    model = \"amazon.nova-lite-v1:0\",\n",
    "    region_name='us-east-1',\n",
    "    temperature=0.3,\n",
    ")\n",
    "\n",
    "agent = Agent(model=bedrock_model)"
   ]
  },
  {
   "cell_type": "markdown",
   "id": "14",
   "metadata": {},
   "source": [
    "\n",
    "利用可能なモデル プロバイダーの詳細については、[モデル プロバイダー クイックスタート ページ](https://strandsagents.com/0.1.x/user-guide/quickstart/#model-providers) を参照してください。\n"
   ]
  },
  {
   "cell_type": "markdown",
   "id": "15",
   "metadata": {},
   "source": [
    "**おめでとうございます!!これで、Strands を使用して簡単なエージェントを構築する方法を学習しました!!**"
   ]
  },
  {
   "cell_type": "markdown",
   "id": "16",
   "metadata": {},
   "source": [
    "## [オプション] タスク特化型エージェント - RecipeBot を作成しましょう 🍽️\n",
    "\n",
    "タスク特化型エージェントの実用的な例を作成しましょう。レシピを推奨し、料理に関する質問に答える「RecipeBot」を作成します。さあ、始めましょう！\n",
    "\n",
    "作成するものは以下のとおりです。"
   ]
  },
  {
   "cell_type": "markdown",
   "id": "17",
   "metadata": {},
   "source": [
    "<div style=\"text-align:center\">\n",
    "    <img src=\"images/interactive_recipe_agent.png\" width=\"75%\" />\n",
    "</div>"
   ]
  },
  {
   "cell_type": "code",
   "execution_count": null,
   "id": "18",
   "metadata": {},
   "outputs": [],
   "source": [
    "# 必要なパッケージをインストールする\n",
    "%pip install duckduckgo-search # まだインストールしていない場合は、strands-agents strands-agents-toolsもインストールしてください。"
   ]
  },
  {
   "cell_type": "code",
   "execution_count": null,
   "id": "19",
   "metadata": {},
   "outputs": [],
   "source": [
    "from strands import Agent, tool\n",
    "from duckduckgo_search import DDGS\n",
    "from duckduckgo_search.exceptions import RatelimitException, DuckDuckGoSearchException\n",
    "import logging\n",
    "\n",
    "# ログを設定\n",
    "logging.getLogger(\"strands\").setLevel(logging.INFO)\n",
    "\n",
    "# ウェブ検索ツールを定義\n",
    "@tool\n",
    "def websearch(keywords: str, region: str = \"us-en\", max_results: int | None = None) -> str:\n",
    "    \"\"\"最新情報を取得するためにウェブを検索します\n",
    "    Args:\n",
    "        keywords (str): 検索クエリのキーワード\n",
    "        region (str): 検索地域: wt-wt, us-en, uk-en, ru-ru, など\n",
    "        max_results (int | None): 返す結果の最大数\n",
    "    Returns:\n",
    "        検索結果の辞書のリスト\n",
    "    \"\"\"\n",
    "    try:\n",
    "        results = DDGS().text(keywords, region=region, max_results=max_results)\n",
    "        return results if results else \"結果が見つかりませんでした。\"\n",
    "    except RatelimitException:\n",
    "        return \"RatelimitException: 短時間待ってから再試行してください。\"\n",
    "    except DuckDuckGoSearchException as d:\n",
    "        return f\"DuckDuckGoSearchException: {d}\"\n",
    "    except Exception as e:\n",
    "        return f\"Exception: {e}\""
   ]
  },
  {
   "cell_type": "code",
   "execution_count": null,
   "id": "20",
   "metadata": {},
   "outputs": [],
   "source": [
    "# レシピアシスタントエージェントを作成\n",
    "recipe_agent = Agent(\n",
    "    model = \"amazon.nova-lite-v1:0\",\n",
    "    system_prompt=\"\"\"あなたはRecipeBot、親切な料理アシスタントです。\n",
    "    材料に基づいてレシピを見つけ、料理の質問に答えるお手伝いをします。\n",
    "    ユーザーが材料について言及したり、料理情報を調べたりする際には、websearchツールを使用してレシピを見つけてください。\"\"\",\n",
    "    tools=[websearch], # 上で作成したwebsearchツールをインポート\n",
    ")"
   ]
  },
  {
   "cell_type": "code",
   "execution_count": null,
   "id": "21",
   "metadata": {},
   "outputs": [],
   "source": [
    "response = recipe_agent(\"鶏肉とブロッコリーを使ったレシピを提案してください。\")\n",
    "\n",
    "print(f\"メトリクス : {response.metrics}\") # オプションですが、推奨されます。\n",
    "\n",
    "# その他の例:\n",
    "# response = recipe_agent(\"キヌアはどのように調理すればいいですか？\")\n",
    "# response = recipe_agent(\"エビパスタで白ワインを代用するにはどうすればいいでしょうか？\")\n",
    "# response = recipe_agent(\"アスパラガスの健康効果は何ですか?\")\n",
    "print(response)"
   ]
  },
  {
   "cell_type": "markdown",
   "id": "22",
   "metadata": {},
   "source": [
    "#### これで完了です！わずか数行のコードで、ツールを備えたユースケースエージェントが実行可能になりました🥳。\n",
    "\n",
    "より詳細なクイックスタートガイドについては、[Strands ドキュメント](https://strandsagents.com/0.1.x/user-guide/quickstart/)をご覧ください。"
   ]
  },
  {
   "cell_type": "markdown",
   "id": "23",
   "metadata": {},
   "source": [
    "### [オプション] CLI 経由で RecipeBot を実行する:\n",
    "`02_simple_interactive_usecase/recipe_bot.py` で提供されている Python スクリプトを使用して、コマンドライン（SageMaker Studio のターミナルなど）からエージェントを対話モードで実行できます。これにより、CLI 経由でメッセージの送信やレスポンスの受信など、エージェントとより動的にやり取りできるようになります。\n",
    "エージェントを対話モードで実行するには、ターミナルで以下のコマンドを実行します。\n",
    "\n",
    "```cli\n",
    "cd dev_gen_ai_app_on_aws/StrandsAgentExamples/02-simple-interactive-usecase/\n",
    "pip install -r requirements.txt\n",
    "python recipe_bot.py\n",
    "```\n",
    "\n",
    "これにより、コマンドラインインターフェース (CLI) 経由でボットと対話できるようになります。"
   ]
  },
  {
   "cell_type": "markdown",
   "id": "24",
   "metadata": {},
   "source": []
  }
 ],
 "metadata": {
  "kernelspec": {
   "display_name": "Python 3 (ipykernel)",
   "language": "python",
   "name": "python3"
  },
  "language_info": {
   "codemirror_mode": {
    "name": "ipython",
    "version": 3
   },
   "file_extension": ".py",
   "mimetype": "text/x-python",
   "name": "python",
   "nbconvert_exporter": "python",
   "pygments_lexer": "ipython3",
   "version": "3.12.9"
  }
 },
 "nbformat": 4,
 "nbformat_minor": 5
}

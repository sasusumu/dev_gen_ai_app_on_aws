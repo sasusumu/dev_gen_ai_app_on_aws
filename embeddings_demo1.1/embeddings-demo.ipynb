{
 "cells": [
  {
   "cell_type": "markdown",
   "id": "0",
   "metadata": {},
   "source": [
    "# Amazon Titan Embeddings を使用したベクトル化\n",
    "埋め込みモデルの Amazon Titan Embeddings を使用して、テキストをベクトル化します。\n",
    "ベクトル化されたテキストの距離を比較することで、テキストの類似度を計算することができます。"
   ]
  },
  {
   "cell_type": "code",
   "execution_count": null,
   "id": "1",
   "metadata": {},
   "outputs": [],
   "source": [
    "import json\n",
    "import os\n",
    "import sys\n",
    "\n",
    "import boto3\n",
    "import botocore\n",
    "\n",
    "import numpy as np\n",
    "from numpy.linalg import norm\n",
    "\n",
    "module_path = \"..\"\n",
    "sys.path.append(os.path.abspath(module_path))"
   ]
  },
  {
   "cell_type": "markdown",
   "id": "2",
   "metadata": {},
   "source": [
    "AWS Python SDK の invoke_model を使用してベクトル化したいテキストを埋め込みモデルにインプットします。"
   ]
  },
  {
   "cell_type": "code",
   "execution_count": null,
   "id": "3",
   "metadata": {},
   "outputs": [],
   "source": [
    "bedrock_client = boto3.client('bedrock-runtime',region_name=os.environ.get(\"AWS_DEFAULT_REGION\", None))\n",
    "\n",
    "# 埋め込みを行う基盤モデルを使用\n",
    "#modelId=\"amazon.titan-embed-text-v1\"\n",
    "modelId=\"amazon.titan-embed-text-v2:0\"\n",
    "\n",
    "# 文の埋め込みベクトルを生成する関数\n",
    "def sen2vec(sentence):\n",
    "    # Convert the given sentence to a vector representation using a text embedding model.  \n",
    "    input_body = {\"inputText\": sentence}\n",
    "    try:\n",
    "        response = bedrock_client.invoke_model(\n",
    "            body=json.dumps(input_body),\n",
    "            modelId=modelId,\n",
    "            accept=\"application/json\",\n",
    "            contentType=\"application/json\",\n",
    "            )\n",
    "        response_body = json.loads(response.get(\"body\").read())\n",
    "        vector = np.array(response_body.get(\"embedding\"))            \n",
    "        return vector\n",
    "    except Exception as e:\n",
    "        print(e)"
   ]
  },
  {
   "cell_type": "markdown",
   "id": "4",
   "metadata": {},
   "source": [
    "サンプルファイル documents-jp.txt に、5つの文章が保存されているので、それぞれをベクトル化します。"
   ]
  },
  {
   "cell_type": "code",
   "execution_count": null,
   "id": "5",
   "metadata": {},
   "outputs": [],
   "source": [
    "# ドキュメントのファイルを読み込み用の配列を初期化\n",
    "with open(\"documents-jp.txt\") as doc:\n",
    "    num_records = len(doc.readlines())\n",
    "    \n",
    "doc_array=np.empty(shape=(num_records), dtype=\"S255\")\n",
    "embed_array = np.zeros(shape=(num_records, 1024))\n",
    "\n",
    "# ドキュメントのファイルを読み込み、ベクトル化データを配列へ格納\n",
    "with open(\"documents-jp.txt\") as doc:\n",
    "    for num, line in enumerate(doc, 0):\n",
    "      doc = line.strip('\\n')\n",
    "      doc_array[num] = doc.encode(\"UTF-8\")\n",
    "      embed_array[num] = sen2vec(doc)\n",
    "\n",
    "print(\"ベクトル化データの配列のサイズ\")\n",
    "print(embed_array.shape)\n",
    "print(\"----\")\n",
    "print(\"ベクトル化データの配列の内容\") \n",
    "print(embed_array)\n",
    "print(\"----\")"
   ]
  },
  {
   "cell_type": "markdown",
   "id": "6",
   "metadata": {},
   "source": [
    "類似性検索を使用して類似度を算出します。  \n",
    "行列ベクトルストアから関連ドキュメントを引き出すために類似性検索を使用するインタラクティブなクエリを実行  \n",
    "類似度のしきい値として0.5を使用して、幻影(ハルシネーション)を限定します。  \n",
    "ドキュメントストアのコース名に関連するクエリは、成功した結果につながります。  \n",
    "結果のいずれも0.5のしきい値を超えない場合、「わかりません」が応答になります。"
   ]
  },
  {
   "cell_type": "code",
   "execution_count": null,
   "id": "7",
   "metadata": {},
   "outputs": [],
   "source": [
    "my_text = \"AWSの研修\"\n",
    "#my_text = \"AnyCompany社の勤務に関する情報\"\n",
    "#my_text = \"車のタイヤの交換\"\n",
    "    \n",
    "embed_query = sen2vec(my_text)\n",
    "denominator = norm(embed_array, axis=1) * norm(embed_query)\n",
    "similarity = embed_array.dot(embed_query) / denominator\n",
    "max_value = max(similarity)\n",
    "max_value_index = similarity.argmax()\n",
    "print(\"\\nテキスト: \" + my_text)\n",
    "if max_value > 0.5:\n",
    "    print(\"類似性が高いドキュメント: \" + doc_array[max_value_index].decode('UTF-8'))\n",
    "else:\n",
    "    print(\"どのドキュメントも類似性が 50% 未満です。\")\n",
    "print(\"\\nSimilarity vector used for document selection\")\n",
    "print(similarity)\n",
    "        "
   ]
  },
  {
   "cell_type": "code",
   "execution_count": null,
   "id": "8",
   "metadata": {},
   "outputs": [],
   "source": []
  }
 ],
 "metadata": {
  "kernelspec": {
   "display_name": "Python 3 (ipykernel)",
   "language": "python",
   "name": "python3"
  },
  "language_info": {
   "codemirror_mode": {
    "name": "ipython",
    "version": 3
   },
   "file_extension": ".py",
   "mimetype": "text/x-python",
   "name": "python",
   "nbconvert_exporter": "python",
   "pygments_lexer": "ipython3",
   "version": "3.12.9"
  }
 },
 "nbformat": 4,
 "nbformat_minor": 5
}
